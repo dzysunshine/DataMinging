{
 "cells": [
  {
   "cell_type": "markdown",
   "metadata": {},
   "source": [
    "任务说明：\n",
    "\n",
    "利用 金融数据 来预测贷款用户是否会逾期\n",
    "\n",
    "其中，“status” 是结果标签：0 表示未逾期，1 表示逾期\n",
    "\n",
    "任务要求：\n",
    "\n",
    "数据切分方式：三七分\n",
    "\n",
    "其中，测试集 30%，训练集 70%，随机种子设置为 2019\n",
    "\n",
    "任务实现：（2 Days）\n",
    "\n",
    "对数据进行探索和分析 EDA\n",
    "\n",
    "数据类型的分析\n",
    "\n",
    "无关特征的删除\n",
    "\n",
    "数据类型的转换\n",
    "\n",
    "缺失值的处理\n",
    "\n",
    "......\n",
    "\n",
    "分析步骤：\n",
    "\n",
    "1. 数据集加载并预览原始数据\n",
    "\n",
    "\n",
    "2. 对数据进行预处理（Preprocessing）：\n",
    "\n",
    "2.1 无关特征的删除\n",
    "\n",
    "2.2 数据类型的转换\n",
    "\n",
    "2.3 缺失值的处理"
   ]
  },
  {
   "cell_type": "markdown",
   "metadata": {},
   "source": [
    "### 1. 数据集加载及预览效果"
   ]
  },
  {
   "cell_type": "code",
   "execution_count": null,
   "metadata": {},
   "outputs": [],
   "source": [
    "import pandas as pd"
   ]
  },
  {
   "cell_type": "code",
   "execution_count": null,
   "metadata": {},
   "outputs": [],
   "source": [
    "# Unicode编码错误 UnicodeDecodeError    Traceback (most recent call last)\n",
    "data = pd.read_csv(\"data_2.csv\")\n",
    "# 编码格式的问题 用gbk打开或手动设定为\"UTF-8\""
   ]
  },
  {
   "cell_type": "code",
   "execution_count": null,
   "metadata": {},
   "outputs": [],
   "source": [
    "print(data.shape) # 观察数据的大小 4754行 90列"
   ]
  },
  {
   "cell_type": "code",
   "execution_count": null,
   "metadata": {},
   "outputs": [],
   "source": [
    "data.head(10)"
   ]
  },
  {
   "cell_type": "code",
   "execution_count": null,
   "metadata": {},
   "outputs": [],
   "source": [
    "data.columns"
   ]
  },
  {
   "cell_type": "markdown",
   "metadata": {},
   "source": [
    "### 2. 对数据进行预处理（Preprocessing）"
   ]
  },
  {
   "cell_type": "markdown",
   "metadata": {},
   "source": [
    "#### 2.1找到无关特征并删除"
   ]
  },
  {
   "cell_type": "code",
   "execution_count": null,
   "metadata": {},
   "outputs": [],
   "source": [
    "data[\"bank_card_no\"]"
   ]
  },
  {
   "cell_type": "code",
   "execution_count": null,
   "metadata": {},
   "outputs": [],
   "source": [
    "data[\"source\"]"
   ]
  },
  {
   "cell_type": "code",
   "execution_count": null,
   "metadata": {},
   "outputs": [],
   "source": [
    "data[\"custid\"]"
   ]
  },
  {
   "cell_type": "code",
   "execution_count": null,
   "metadata": {},
   "outputs": [],
   "source": [
    "data[['trade_no', 'id_name', 'Unnamed: 0']]"
   ]
  },
  {
   "cell_type": "markdown",
   "metadata": {},
   "source": [
    "对以上字段进行 drop 删除操作！！\n",
    "\n",
    "bank_card_no 、 source 取值没有区分度，所以进行删除！\n",
    "\n",
    "trade_no 、 id_name 、 Unnamed: 0 、 custid 和 预测 没有关联，所以进行删除！\n",
    "\n",
    "Note!\n",
    "\n",
    "(1) axis 0 表明用标签序列调用 drop 会从行标签删除值\n",
    "\n",
    "(2) drop 函数会修改 Series 或 DataFrame 的大小或形状，可以就地修改对象，不会返回新 的对象，所以，应该小心使用 inplace， 因为它会销毁所有被删除的数据！！"
   ]
  },
  {
   "cell_type": "code",
   "execution_count": null,
   "metadata": {},
   "outputs": [],
   "source": [
    "data.drop(['bank_card_no', 'source', 'trade_no', 'id_name', 'Unnamed: 0', 'custid','first_transaction_time', 'latest_query_time', 'loans_latest_time'], axis=1, inplace=True)"
   ]
  },
  {
   "cell_type": "code",
   "execution_count": null,
   "metadata": {},
   "outputs": [],
   "source": [
    "print(data.shape)"
   ]
  },
  {
   "cell_type": "markdown",
   "metadata": {},
   "source": [
    "#### 2.2 数据类型转换"
   ]
  },
  {
   "cell_type": "code",
   "execution_count": 37,
   "metadata": {},
   "outputs": [
    {
     "data": {
      "text/plain": [
       "0    3403\n",
       "1    1064\n",
       "2     150\n",
       "3     131\n",
       "4       4\n",
       "5       2\n",
       "Name: reg_preference_for_trad, dtype: int64"
      ]
     },
     "execution_count": 37,
     "metadata": {},
     "output_type": "execute_result"
    }
   ],
   "source": [
    "# 字符类型的特征处理\n",
    "data['reg_preference_for_trad'].value_counts()"
   ]
  },
  {
   "cell_type": "code",
   "execution_count": 38,
   "metadata": {},
   "outputs": [],
   "source": [
    "dic = {}\n",
    "for i, val in enumerate(list(data['reg_preference_for_trad'].unique())): # 复习 enumerate 操作\n",
    "    dic[val] = i"
   ]
  },
  {
   "cell_type": "code",
   "execution_count": 39,
   "metadata": {},
   "outputs": [
    {
     "data": {
      "text/plain": [
       "{0: 0, 1: 1, 2: 2, 3: 3, 4: 4, 5: 5}"
      ]
     },
     "execution_count": 39,
     "metadata": {},
     "output_type": "execute_result"
    }
   ],
   "source": [
    "dic"
   ]
  },
  {
   "cell_type": "code",
   "execution_count": 40,
   "metadata": {},
   "outputs": [
    {
     "data": {
      "text/plain": [
       "[0, 1, 2, 3, 4, 5]"
      ]
     },
     "execution_count": 40,
     "metadata": {},
     "output_type": "execute_result"
    }
   ],
   "source": [
    "list(data['reg_preference_for_trad'].unique())"
   ]
  },
  {
   "cell_type": "code",
   "execution_count": 41,
   "metadata": {},
   "outputs": [],
   "source": [
    "data['reg_preference_for_trad'] = data['reg_preference_for_trad'].map(dic)"
   ]
  },
  {
   "cell_type": "code",
   "execution_count": 42,
   "metadata": {},
   "outputs": [
    {
     "name": "stdout",
     "output_type": "stream",
     "text": [
      "<class 'pandas.core.series.Series'>\n"
     ]
    }
   ],
   "source": [
    "print(type(data['reg_preference_for_trad']))"
   ]
  },
  {
   "cell_type": "code",
   "execution_count": 43,
   "metadata": {},
   "outputs": [
    {
     "data": {
      "text/plain": [
       "0       0\n",
       "1       0\n",
       "2       0\n",
       "3       1\n",
       "4       0\n",
       "5       1\n",
       "6       0\n",
       "7       0\n",
       "8       1\n",
       "9       0\n",
       "10      0\n",
       "11      0\n",
       "12      1\n",
       "13      0\n",
       "14      0\n",
       "15      0\n",
       "16      2\n",
       "17      0\n",
       "18      2\n",
       "19      0\n",
       "20      0\n",
       "21      0\n",
       "22      2\n",
       "23      1\n",
       "24      0\n",
       "25      2\n",
       "26      0\n",
       "27      1\n",
       "28      0\n",
       "29      0\n",
       "       ..\n",
       "4724    0\n",
       "4725    0\n",
       "4726    2\n",
       "4727    0\n",
       "4728    0\n",
       "4729    0\n",
       "4730    1\n",
       "4731    1\n",
       "4732    0\n",
       "4733    3\n",
       "4734    2\n",
       "4735    0\n",
       "4736    0\n",
       "4737    0\n",
       "4738    0\n",
       "4739    1\n",
       "4740    0\n",
       "4741    0\n",
       "4742    0\n",
       "4743    1\n",
       "4744    0\n",
       "4745    1\n",
       "4746    0\n",
       "4747    2\n",
       "4748    0\n",
       "4749    0\n",
       "4750    0\n",
       "4751    0\n",
       "4752    0\n",
       "4753    0\n",
       "Name: reg_preference_for_trad, Length: 4754, dtype: int64"
      ]
     },
     "execution_count": 43,
     "metadata": {},
     "output_type": "execute_result"
    }
   ],
   "source": [
    "data['reg_preference_for_trad']"
   ]
  },
  {
   "cell_type": "markdown",
   "metadata": {},
   "source": [
    "#### 2.3 缺失值处理"
   ]
  },
  {
   "cell_type": "code",
   "execution_count": 44,
   "metadata": {},
   "outputs": [],
   "source": [
    "for feature in data.columns:\n",
    "    summ = data[feature].isnull().sum()\n",
    "    if summ:\n",
    "        print('%.4f'%(summ*100/4754), '%',  '<==>', feature)"
   ]
  },
  {
   "cell_type": "markdown",
   "metadata": {},
   "source": [
    "63.0627 % <==> student_feature\n",
    "\n",
    "student_feature 缺失占比较多，用众数填充\n",
    "\n",
    "data['student_feature'].fillna(1.0, inplace = True)"
   ]
  },
  {
   "cell_type": "code",
   "execution_count": 45,
   "metadata": {},
   "outputs": [
    {
     "data": {
      "text/plain": [
       "1.0    4752\n",
       "2.0       2\n",
       "Name: student_feature, dtype: int64"
      ]
     },
     "execution_count": 45,
     "metadata": {},
     "output_type": "execute_result"
    }
   ],
   "source": [
    "data['student_feature'].value_counts()"
   ]
  },
  {
   "cell_type": "code",
   "execution_count": 46,
   "metadata": {},
   "outputs": [],
   "source": [
    "data['student_feature'].fillna(1.0, inplace = True)"
   ]
  },
  {
   "cell_type": "code",
   "execution_count": 47,
   "metadata": {},
   "outputs": [
    {
     "data": {
      "text/plain": [
       "1.0    4752\n",
       "2.0       2\n",
       "Name: student_feature, dtype: int64"
      ]
     },
     "execution_count": 47,
     "metadata": {},
     "output_type": "execute_result"
    }
   ],
   "source": [
    "data['student_feature'].value_counts()"
   ]
  },
  {
   "cell_type": "code",
   "execution_count": 48,
   "metadata": {},
   "outputs": [
    {
     "data": {
      "text/plain": [
       "low_volume_percent                        float64\n",
       "middle_volume_percent                     float64\n",
       "take_amount_in_later_12_month_highest       int64\n",
       "trans_amount_increase_rate_lately         float64\n",
       "trans_activity_month                      float64\n",
       "trans_activity_day                        float64\n",
       "transd_mcc                                float64\n",
       "trans_days_interval_filter                float64\n",
       "trans_days_interval                       float64\n",
       "regional_mobility                         float64\n",
       "student_feature                           float64\n",
       "repayment_capability                        int64\n",
       "is_high_user                                int64\n",
       "number_of_trans_from_2011                 float64\n",
       "historical_trans_amount                     int64\n",
       "historical_trans_day                      float64\n",
       "rank_trad_1_month                         float64\n",
       "trans_amount_3_month                        int64\n",
       "avg_consume_less_12_valid_month           float64\n",
       "abs                                         int64\n",
       "top_trans_count_last_1_month              float64\n",
       "avg_price_last_12_month                     int64\n",
       "avg_price_top_last_12_valid_month         float64\n",
       "reg_preference_for_trad                     int64\n",
       "trans_top_time_last_1_month               float64\n",
       "trans_top_time_last_6_month               float64\n",
       "consume_top_time_last_1_month             float64\n",
       "consume_top_time_last_6_month             float64\n",
       "cross_consume_count_last_1_month          float64\n",
       "trans_fail_top_count_enum_last_1_month    float64\n",
       "                                           ...   \n",
       "loans_score                               float64\n",
       "loans_credibility_behavior                float64\n",
       "loans_count                               float64\n",
       "loans_settle_count                        float64\n",
       "loans_overdue_count                       float64\n",
       "loans_org_count_behavior                  float64\n",
       "consfin_org_count_behavior                float64\n",
       "loans_cash_count                          float64\n",
       "latest_one_month_loan                     float64\n",
       "latest_three_month_loan                   float64\n",
       "latest_six_month_loan                     float64\n",
       "history_suc_fee                           float64\n",
       "history_fail_fee                          float64\n",
       "latest_one_month_suc                      float64\n",
       "latest_one_month_fail                     float64\n",
       "loans_long_time                           float64\n",
       "loans_credit_limit                        float64\n",
       "loans_credibility_limit                   float64\n",
       "loans_org_count_current                   float64\n",
       "loans_product_count                       float64\n",
       "loans_max_limit                           float64\n",
       "loans_avg_limit                           float64\n",
       "consfin_credit_limit                      float64\n",
       "consfin_credibility                       float64\n",
       "consfin_org_count_current                 float64\n",
       "consfin_product_count                     float64\n",
       "consfin_max_limit                         float64\n",
       "consfin_avg_limit                         float64\n",
       "latest_query_day                          float64\n",
       "loans_latest_day                          float64\n",
       "Length: 81, dtype: object"
      ]
     },
     "execution_count": 48,
     "metadata": {},
     "output_type": "execute_result"
    }
   ],
   "source": [
    "data.dtypes"
   ]
  },
  {
   "cell_type": "code",
   "execution_count": 49,
   "metadata": {},
   "outputs": [
    {
     "name": "stdout",
     "output_type": "stream",
     "text": [
      "<class 'pandas.core.frame.DataFrame'>\n",
      "RangeIndex: 4754 entries, 0 to 4753\n",
      "Data columns (total 81 columns):\n",
      "low_volume_percent                            4754 non-null float64\n",
      "middle_volume_percent                         4754 non-null float64\n",
      "take_amount_in_later_12_month_highest         4754 non-null int64\n",
      "trans_amount_increase_rate_lately             4754 non-null float64\n",
      "trans_activity_month                          4754 non-null float64\n",
      "trans_activity_day                            4754 non-null float64\n",
      "transd_mcc                                    4754 non-null float64\n",
      "trans_days_interval_filter                    4754 non-null float64\n",
      "trans_days_interval                           4754 non-null float64\n",
      "regional_mobility                             4754 non-null float64\n",
      "student_feature                               4754 non-null float64\n",
      "repayment_capability                          4754 non-null int64\n",
      "is_high_user                                  4754 non-null int64\n",
      "number_of_trans_from_2011                     4754 non-null float64\n",
      "historical_trans_amount                       4754 non-null int64\n",
      "historical_trans_day                          4754 non-null float64\n",
      "rank_trad_1_month                             4754 non-null float64\n",
      "trans_amount_3_month                          4754 non-null int64\n",
      "avg_consume_less_12_valid_month               4754 non-null float64\n",
      "abs                                           4754 non-null int64\n",
      "top_trans_count_last_1_month                  4754 non-null float64\n",
      "avg_price_last_12_month                       4754 non-null int64\n",
      "avg_price_top_last_12_valid_month             4754 non-null float64\n",
      "reg_preference_for_trad                       4754 non-null int64\n",
      "trans_top_time_last_1_month                   4754 non-null float64\n",
      "trans_top_time_last_6_month                   4754 non-null float64\n",
      "consume_top_time_last_1_month                 4754 non-null float64\n",
      "consume_top_time_last_6_month                 4754 non-null float64\n",
      "cross_consume_count_last_1_month              4754 non-null float64\n",
      "trans_fail_top_count_enum_last_1_month        4754 non-null float64\n",
      "trans_fail_top_count_enum_last_6_month        4754 non-null float64\n",
      "trans_fail_top_count_enum_last_12_month       4754 non-null float64\n",
      "consume_mini_time_last_1_month                4754 non-null float64\n",
      "max_cumulative_consume_later_1_month          4754 non-null int64\n",
      "max_consume_count_later_6_month               4754 non-null float64\n",
      "railway_consume_count_last_12_month           4754 non-null float64\n",
      "pawns_auctions_trusts_consume_last_1_month    4754 non-null int64\n",
      "pawns_auctions_trusts_consume_last_6_month    4754 non-null int64\n",
      "jewelry_consume_count_last_6_month            4754 non-null float64\n",
      "status                                        4754 non-null int64\n",
      "first_transaction_day                         4754 non-null float64\n",
      "trans_day_last_12_month                       4754 non-null float64\n",
      "apply_score                                   4754 non-null float64\n",
      "apply_credibility                             4754 non-null float64\n",
      "query_org_count                               4754 non-null float64\n",
      "query_finance_count                           4754 non-null float64\n",
      "query_cash_count                              4754 non-null float64\n",
      "query_sum_count                               4754 non-null float64\n",
      "latest_one_month_apply                        4754 non-null float64\n",
      "latest_three_month_apply                      4754 non-null float64\n",
      "latest_six_month_apply                        4754 non-null float64\n",
      "loans_score                                   4754 non-null float64\n",
      "loans_credibility_behavior                    4754 non-null float64\n",
      "loans_count                                   4754 non-null float64\n",
      "loans_settle_count                            4754 non-null float64\n",
      "loans_overdue_count                           4754 non-null float64\n",
      "loans_org_count_behavior                      4754 non-null float64\n",
      "consfin_org_count_behavior                    4754 non-null float64\n",
      "loans_cash_count                              4754 non-null float64\n",
      "latest_one_month_loan                         4754 non-null float64\n",
      "latest_three_month_loan                       4754 non-null float64\n",
      "latest_six_month_loan                         4754 non-null float64\n",
      "history_suc_fee                               4754 non-null float64\n",
      "history_fail_fee                              4754 non-null float64\n",
      "latest_one_month_suc                          4754 non-null float64\n",
      "latest_one_month_fail                         4754 non-null float64\n",
      "loans_long_time                               4754 non-null float64\n",
      "loans_credit_limit                            4754 non-null float64\n",
      "loans_credibility_limit                       4754 non-null float64\n",
      "loans_org_count_current                       4754 non-null float64\n",
      "loans_product_count                           4754 non-null float64\n",
      "loans_max_limit                               4754 non-null float64\n",
      "loans_avg_limit                               4754 non-null float64\n",
      "consfin_credit_limit                          4754 non-null float64\n",
      "consfin_credibility                           4754 non-null float64\n",
      "consfin_org_count_current                     4754 non-null float64\n",
      "consfin_product_count                         4754 non-null float64\n",
      "consfin_max_limit                             4754 non-null float64\n",
      "consfin_avg_limit                             4754 non-null float64\n",
      "latest_query_day                              4754 non-null float64\n",
      "loans_latest_day                              4754 non-null float64\n",
      "dtypes: float64(69), int64(12)\n",
      "memory usage: 2.9 MB\n"
     ]
    }
   ],
   "source": [
    "data.info()"
   ]
  },
  {
   "cell_type": "markdown",
   "metadata": {},
   "source": [
    "其余特征用 mean均值 填充"
   ]
  },
  {
   "cell_type": "code",
   "execution_count": 50,
   "metadata": {},
   "outputs": [],
   "source": [
    "for feature in data.columns:\n",
    "    summ = data[feature].isnull().sum()\n",
    "    if summ:\n",
    "        data[feature].fillna(data[feature].mean(), inplace = True)\n"
   ]
  },
  {
   "cell_type": "markdown",
   "metadata": {},
   "source": [
    "### 3. 划分数据集"
   ]
  },
  {
   "cell_type": "code",
   "execution_count": 51,
   "metadata": {},
   "outputs": [],
   "source": [
    "features = [x for x in data.columns if x not in ['status']]"
   ]
  },
  {
   "cell_type": "code",
   "execution_count": 52,
   "metadata": {},
   "outputs": [
    {
     "data": {
      "text/plain": [
       "['low_volume_percent',\n",
       " 'middle_volume_percent',\n",
       " 'take_amount_in_later_12_month_highest',\n",
       " 'trans_amount_increase_rate_lately',\n",
       " 'trans_activity_month',\n",
       " 'trans_activity_day',\n",
       " 'transd_mcc',\n",
       " 'trans_days_interval_filter',\n",
       " 'trans_days_interval',\n",
       " 'regional_mobility',\n",
       " 'student_feature',\n",
       " 'repayment_capability',\n",
       " 'is_high_user',\n",
       " 'number_of_trans_from_2011',\n",
       " 'historical_trans_amount',\n",
       " 'historical_trans_day',\n",
       " 'rank_trad_1_month',\n",
       " 'trans_amount_3_month',\n",
       " 'avg_consume_less_12_valid_month',\n",
       " 'abs',\n",
       " 'top_trans_count_last_1_month',\n",
       " 'avg_price_last_12_month',\n",
       " 'avg_price_top_last_12_valid_month',\n",
       " 'reg_preference_for_trad',\n",
       " 'trans_top_time_last_1_month',\n",
       " 'trans_top_time_last_6_month',\n",
       " 'consume_top_time_last_1_month',\n",
       " 'consume_top_time_last_6_month',\n",
       " 'cross_consume_count_last_1_month',\n",
       " 'trans_fail_top_count_enum_last_1_month',\n",
       " 'trans_fail_top_count_enum_last_6_month',\n",
       " 'trans_fail_top_count_enum_last_12_month',\n",
       " 'consume_mini_time_last_1_month',\n",
       " 'max_cumulative_consume_later_1_month',\n",
       " 'max_consume_count_later_6_month',\n",
       " 'railway_consume_count_last_12_month',\n",
       " 'pawns_auctions_trusts_consume_last_1_month',\n",
       " 'pawns_auctions_trusts_consume_last_6_month',\n",
       " 'jewelry_consume_count_last_6_month',\n",
       " 'first_transaction_day',\n",
       " 'trans_day_last_12_month',\n",
       " 'apply_score',\n",
       " 'apply_credibility',\n",
       " 'query_org_count',\n",
       " 'query_finance_count',\n",
       " 'query_cash_count',\n",
       " 'query_sum_count',\n",
       " 'latest_one_month_apply',\n",
       " 'latest_three_month_apply',\n",
       " 'latest_six_month_apply',\n",
       " 'loans_score',\n",
       " 'loans_credibility_behavior',\n",
       " 'loans_count',\n",
       " 'loans_settle_count',\n",
       " 'loans_overdue_count',\n",
       " 'loans_org_count_behavior',\n",
       " 'consfin_org_count_behavior',\n",
       " 'loans_cash_count',\n",
       " 'latest_one_month_loan',\n",
       " 'latest_three_month_loan',\n",
       " 'latest_six_month_loan',\n",
       " 'history_suc_fee',\n",
       " 'history_fail_fee',\n",
       " 'latest_one_month_suc',\n",
       " 'latest_one_month_fail',\n",
       " 'loans_long_time',\n",
       " 'loans_credit_limit',\n",
       " 'loans_credibility_limit',\n",
       " 'loans_org_count_current',\n",
       " 'loans_product_count',\n",
       " 'loans_max_limit',\n",
       " 'loans_avg_limit',\n",
       " 'consfin_credit_limit',\n",
       " 'consfin_credibility',\n",
       " 'consfin_org_count_current',\n",
       " 'consfin_product_count',\n",
       " 'consfin_max_limit',\n",
       " 'consfin_avg_limit',\n",
       " 'latest_query_day',\n",
       " 'loans_latest_day']"
      ]
     },
     "execution_count": 52,
     "metadata": {},
     "output_type": "execute_result"
    }
   ],
   "source": [
    "features"
   ]
  },
  {
   "cell_type": "code",
   "execution_count": 73,
   "metadata": {},
   "outputs": [],
   "source": [
    "import warnings\n",
    "warnings.filterwarnings(\"ignore\")\n",
    "# 将数据集划分为训练集测试集\n",
    "from sklearn.model_selection import train_test_split\n",
    "# 预处理 标准化操作\n",
    "from sklearn.preprocessing import StandardScaler\n",
    "# 特征 与 标签\n",
    "X = data[features]\n",
    "y = data.status\n",
    "# 训练集 和 测试集\n",
    "X_train, X_test, y_train, y_test = train_test_split(X, y, test_size=0.3,random_state=2333)\n",
    "# 对特征进行归一化处理\n",
    "std = StandardScaler()\n",
    "X_train = std.fit_transform(X_train)\n",
    "X_test = std.transform(X_test)"
   ]
  },
  {
   "cell_type": "markdown",
   "metadata": {},
   "source": [
    "### 4. 模型选择"
   ]
  },
  {
   "cell_type": "markdown",
   "metadata": {},
   "source": [
    " Logistic Regression  逻辑回归模型\n",
    "\n",
    "SVM 模型\n",
    "\n",
    "Decision Tree 模型\n",
    "\n",
    "XGB 模型\n",
    "\n",
    "LGB模型"
   ]
  },
  {
   "cell_type": "code",
   "execution_count": 74,
   "metadata": {},
   "outputs": [],
   "source": [
    "from sklearn.linear_model import LogisticRegression"
   ]
  },
  {
   "cell_type": "code",
   "execution_count": 75,
   "metadata": {},
   "outputs": [
    {
     "data": {
      "text/plain": [
       "LogisticRegression(C=1.0, class_weight=None, dual=False, fit_intercept=True,\n",
       "          intercept_scaling=1, max_iter=100, multi_class='ovr', n_jobs=1,\n",
       "          penalty='l2', random_state=None, solver='liblinear', tol=0.0001,\n",
       "          verbose=0, warm_start=False)"
      ]
     },
     "execution_count": 75,
     "metadata": {},
     "output_type": "execute_result"
    }
   ],
   "source": [
    "lr = LogisticRegression()\n",
    "lr.fit(X_train, y_train)"
   ]
  },
  {
   "cell_type": "code",
   "execution_count": 76,
   "metadata": {},
   "outputs": [],
   "source": [
    "from sklearn import svm"
   ]
  },
  {
   "cell_type": "code",
   "execution_count": 77,
   "metadata": {},
   "outputs": [],
   "source": [
    "svm_linear = svm.SVC(kernel = 'linear', probability=True).fit(X_train, y_train)\n",
    "svm_poly = svm.SVC(kernel = 'poly', probability=True).fit(X_train, y_train)\n",
    "svm_rbf = svm.SVC(probability=True).fit(X_train, y_train)\n",
    "svm_sigmoid = svm.SVC(kernel = 'sigmoid',probability=True).fit(X_train, y_train)"
   ]
  },
  {
   "cell_type": "code",
   "execution_count": 78,
   "metadata": {},
   "outputs": [],
   "source": [
    "from sklearn.tree import DecisionTreeClassifier"
   ]
  },
  {
   "cell_type": "code",
   "execution_count": 79,
   "metadata": {},
   "outputs": [
    {
     "data": {
      "text/plain": [
       "DecisionTreeClassifier(class_weight=None, criterion='gini', max_depth=4,\n",
       "            max_features=None, max_leaf_nodes=None,\n",
       "            min_impurity_decrease=0.0, min_impurity_split=None,\n",
       "            min_samples_leaf=1, min_samples_split=2,\n",
       "            min_weight_fraction_leaf=0.0, presort=False, random_state=None,\n",
       "            splitter='best')"
      ]
     },
     "execution_count": 79,
     "metadata": {},
     "output_type": "execute_result"
    }
   ],
   "source": [
    "dt = DecisionTreeClassifier(max_depth=4)\n",
    "dt.fit(X_train, y_train)"
   ]
  },
  {
   "cell_type": "code",
   "execution_count": 80,
   "metadata": {},
   "outputs": [
    {
     "data": {
      "text/plain": [
       "XGBClassifier(base_score=0.5, booster='gbtree', colsample_bylevel=1,\n",
       "       colsample_bytree=1, gamma=0, learning_rate=0.1, max_delta_step=0,\n",
       "       max_depth=3, min_child_weight=1, missing=None, n_estimators=100,\n",
       "       n_jobs=1, nthread=None, objective='binary:logistic', random_state=0,\n",
       "       reg_alpha=0, reg_lambda=1, scale_pos_weight=1, seed=None,\n",
       "       silent=True, subsample=1)"
      ]
     },
     "execution_count": 80,
     "metadata": {},
     "output_type": "execute_result"
    }
   ],
   "source": [
    "from xgboost.sklearn import XGBClassifier\n",
    "\n",
    "xgb = XGBClassifier()\n",
    "xgb.fit(X_train, y_train)"
   ]
  },
  {
   "cell_type": "code",
   "execution_count": 88,
   "metadata": {},
   "outputs": [
    {
     "data": {
      "text/plain": [
       "LGBMClassifier(boosting_type='gbdt', class_weight=None, colsample_bytree=1.0,\n",
       "        importance_type='split', learning_rate=0.1, max_depth=-1,\n",
       "        min_child_samples=20, min_child_weight=0.001, min_split_gain=0.0,\n",
       "        n_estimators=100, n_jobs=-1, num_leaves=31, objective=None,\n",
       "        random_state=None, reg_alpha=0.0, reg_lambda=0.0, silent=True,\n",
       "        subsample=1.0, subsample_for_bin=200000, subsample_freq=0)"
      ]
     },
     "execution_count": 88,
     "metadata": {},
     "output_type": "execute_result"
    }
   ],
   "source": [
    "from lightgbm.sklearn import LGBMClassifier\n",
    "\n",
    "lgb = LGBMClassifier()\n",
    "lgb.fit(X_train, y_train)"
   ]
  },
  {
   "cell_type": "markdown",
   "metadata": {},
   "source": [
    "### 5. 模型调参"
   ]
  },
  {
   "cell_type": "markdown",
   "metadata": {},
   "source": [
    "### 6. 模型评估"
   ]
  },
  {
   "cell_type": "code",
   "execution_count": null,
   "metadata": {},
   "outputs": [],
   "source": [
    "from sklearn.metrics import accuracy_score, precision_score, recall_score, f1_score\n",
    "from sklearn.metrics import roc_auc_score,roc_curve, auc\n",
    "import matplotlib.pyplot as plt\n",
    "%matplotlib inline"
   ]
  },
  {
   "cell_type": "code",
   "execution_count": null,
   "metadata": {},
   "outputs": [],
   "source": [
    "def model_metrics(clf, X_train, X_test, y_train, y_test):\n",
    "    # 预测训练集和测试集\n",
    "    y_train_pred = clf.predict(X_train)\n",
    "    y_test_pred = clf.predict(X_test)\n",
    "    \n",
    "    y_train_proba = clf.predict_proba(X_train)[:,1]\n",
    "    y_test_proba = clf.predict_proba(X_test)[:,1]\n",
    "    \n",
    "    # 准确率Accuracy\n",
    "    print('[准确率]', end = ' ')\n",
    "    print('训练集：', '%.4f'%accuracy_score(y_train, y_train_pred), end = ' ')\n",
    "    print('测试集：', '%.4f'%accuracy_score(y_test, y_test_pred))\n",
    "    \n",
    "    # 精准率Precision\n",
    "    print('[精准率]', end = ' ')\n",
    "    print('训练集：', '%.4f'%precision_score(y_train, y_train_pred), end = ' ')\n",
    "    print('测试集：', '%.4f'%precision_score(y_test, y_test_pred))\n",
    "\n",
    "    # 召回率Recall\n",
    "    print('[召回率]', end = ' ')\n",
    "    print('训练集：', '%.4f'%recall_score(y_train, y_train_pred), end = ' ')\n",
    "    print('测试集：', '%.4f'%recall_score(y_test, y_test_pred))\n",
    "    \n",
    "    # f1-score\n",
    "    print('[f1-score]', end = ' ')\n",
    "    print('训练集：', '%.4f'%f1_score(y_train, y_train_pred), end = ' ')\n",
    "    print('测试集：', '%.4f'%f1_score(y_test, y_test_pred))\n",
    "    \n",
    "    # AUC取值\n",
    "    print('[auc值]', end = ' ')\n",
    "    print('训练集：', '%.4f'%roc_auc_score(y_train, y_train_proba), end = ' ')\n",
    "    print('测试集：', '%.4f'%roc_auc_score(y_test, y_test_proba))\n",
    "    \n",
    "    # ROC曲线\n",
    "    fpr_train, tpr_train, thresholds_train = roc_curve(y_train, y_train_proba, pos_label = 1)\n",
    "    fpr_test, tpr_test, thresholds_test = roc_curve(y_test, y_test_proba, pos_label = 1)\n",
    "    \n",
    "    label = [\"Train - AUC:{:.4f}\".format(auc(fpr_train, tpr_train)), \n",
    "             \"Test - AUC:{:.4f}\".format(auc(fpr_test, tpr_test))]\n",
    "    plt.plot(fpr_train,tpr_train)\n",
    "    plt.plot(fpr_test,tpr_test)\n",
    "    plt.plot([0, 1], [0, 1], 'd--')\n",
    "    plt.xlabel('False Positive Rate')\n",
    "    plt.ylabel('True Positive Rate')\n",
    "    plt.legend(label, loc = 4)\n",
    "    plt.title(\"ROC curve\")"
   ]
  },
  {
   "cell_type": "code",
   "execution_count": 82,
   "metadata": {},
   "outputs": [
    {
     "name": "stdout",
     "output_type": "stream",
     "text": [
      "[准确率] 训练集： 0.7995 测试集： 0.8024\n",
      "[精准率] 训练集： 0.7094 测试集： 0.7052\n",
      "[召回率] 训练集： 0.3488 测试集： 0.3456\n",
      "[f1-score] 训练集： 0.4677 测试集： 0.4639\n",
      "[auc值] 训练集： 0.8054 测试集： 0.8050\n"
     ]
    },
    {
     "data": {
      "image/png": "[encoded data removed]",
      "text/plain": [
       "<Figure size 432x288 with 1 Axes>"
      ]
     },
     "metadata": {},
     "output_type": "display_data"
    }
   ],
   "source": [
    "# 逻辑回归\n",
    "model_metrics(lr, X_train, X_test, y_train, y_test)"
   ]
  },
  {
   "cell_type": "code",
   "execution_count": 83,
   "metadata": {},
   "outputs": [
    {
     "name": "stdout",
     "output_type": "stream",
     "text": [
      "[准确率] 训练集： 0.7908 测试集： 0.7947\n",
      "[精准率] 训练集： 0.7647 测试集： 0.7885\n",
      "[召回率] 训练集： 0.2476 测试集： 0.2323\n",
      "[f1-score] 训练集： 0.3741 测试集： 0.3589\n",
      "[auc值] 训练集： 0.8042 测试集： 0.8092\n"
     ]
    },
    {
     "data": {
      "image/png": "[encoded data removed]",
      "text/plain": [
       "<Figure size 432x288 with 1 Axes>"
      ]
     },
     "metadata": {},
     "output_type": "display_data"
    }
   ],
   "source": [
    "# 线性SVM\n",
    "model_metrics(svm_linear, X_train, X_test, y_train, y_test)"
   ]
  },
  {
   "cell_type": "code",
   "execution_count": 84,
   "metadata": {},
   "outputs": [
    {
     "name": "stdout",
     "output_type": "stream",
     "text": [
      "[准确率] 训练集： 0.8284 测试集： 0.7554\n",
      "[精准率] 训练集： 0.9786 测试集： 0.5208\n",
      "[召回率] 训练集： 0.3274 测试集： 0.1416\n",
      "[f1-score] 训练集： 0.4906 测试集： 0.2227\n",
      "[auc值] 训练集： 0.9391 测试集： 0.7117\n"
     ]
    },
    {
     "data": {
      "image/png": "[encoded data removed]",
      "text/plain": [
       "<Figure size 432x288 with 1 Axes>"
      ]
     },
     "metadata": {},
     "output_type": "display_data"
    }
   ],
   "source": [
    "# 多项式SVM\n",
    "model_metrics(svm_poly, X_train, X_test, y_train, y_test)"
   ]
  },
  {
   "cell_type": "code",
   "execution_count": 68,
   "metadata": {},
   "outputs": [
    {
     "name": "stdout",
     "output_type": "stream",
     "text": [
      "[准确率] 训练集： 0.8386 测试集： 0.7786\n",
      "[精准率] 训练集： 0.9046 测试集： 0.6777\n",
      "[召回率] 训练集： 0.3981 测试集： 0.2284\n",
      "[f1-score] 训练集： 0.5529 测试集： 0.3417\n",
      "[auc值] 训练集： 0.9141 测试集： 0.7501\n"
     ]
    },
    {
     "data": {
      "image/png": "[encoded data removed]",
      "text/plain": [
       "<Figure size 432x288 with 1 Axes>"
      ]
     },
     "metadata": {},
     "output_type": "display_data"
    }
   ],
   "source": [
    "# 高斯核SVM\n",
    "model_metrics(svm_rbf, X_train, X_test, y_train, y_test)"
   ]
  },
  {
   "cell_type": "code",
   "execution_count": 85,
   "metadata": {},
   "outputs": [
    {
     "name": "stdout",
     "output_type": "stream",
     "text": [
      "[准确率] 训练集： 0.7205 测试集： 0.7379\n",
      "[精准率] 训练集： 0.4373 测试集： 0.4662\n",
      "[召回率] 训练集： 0.3738 测试集： 0.4108\n",
      "[f1-score] 训练集： 0.4031 测试集： 0.4367\n",
      "[auc值] 训练集： 0.6600 测试集： 0.6784\n"
     ]
    },
    {
     "data": {
      "image/png": "[encoded data removed]",
      "text/plain": [
       "<Figure size 432x288 with 1 Axes>"
      ]
     },
     "metadata": {},
     "output_type": "display_data"
    }
   ],
   "source": [
    "# sigmoid-SVM\n",
    "model_metrics(svm_sigmoid, X_train, X_test, y_train, y_test)"
   ]
  },
  {
   "cell_type": "code",
   "execution_count": 70,
   "metadata": {},
   "outputs": [
    {
     "name": "stdout",
     "output_type": "stream",
     "text": [
      "[准确率] 训练集： 0.8028 测试集： 0.7582\n",
      "[精准率] 训练集： 0.6648 测试集： 0.5292\n",
      "[召回率] 训练集： 0.4305 测试集： 0.3538\n",
      "[f1-score] 训练集： 0.5226 测试集： 0.4240\n",
      "[auc值] 训练集： 0.7734 测试集： 0.6928\n"
     ]
    },
    {
     "data": {
      "image/png": "[encoded data removed]",
      "text/plain": [
       "<Figure size 432x288 with 1 Axes>"
      ]
     },
     "metadata": {},
     "output_type": "display_data"
    }
   ],
   "source": [
    "# 决策树\n",
    "model_metrics(dt, X_train, X_test, y_train, y_test)"
   ]
  },
  {
   "cell_type": "code",
   "execution_count": 86,
   "metadata": {},
   "outputs": [
    {
     "name": "stdout",
     "output_type": "stream",
     "text": [
      "[准确率] 训练集： 0.8521 测试集： 0.8045\n",
      "[精准率] 训练集： 0.8718 测试集： 0.7079\n",
      "[召回率] 训练集： 0.4857 测试集： 0.3569\n",
      "[f1-score] 训练集： 0.6239 测试集： 0.4746\n",
      "[auc值] 训练集： 0.9166 测试集： 0.7972\n"
     ]
    },
    {
     "data": {
      "image/png": "[encoded data removed]",
      "text/plain": [
       "<Figure size 432x288 with 1 Axes>"
      ]
     },
     "metadata": {},
     "output_type": "display_data"
    }
   ],
   "source": [
    "# XGBoost\n",
    "model_metrics(xgb, X_train, X_test, y_train, y_test)"
   ]
  },
  {
   "cell_type": "code",
   "execution_count": 91,
   "metadata": {},
   "outputs": [
    {
     "name": "stdout",
     "output_type": "stream",
     "text": [
      "[准确率] 训练集： 0.9949 测试集： 0.7961\n",
      "[精准率] 训练集： 1.0000 测试集： 0.6550\n",
      "[召回率] 训练集： 0.9798 测试集： 0.3711\n",
      "[f1-score] 训练集： 0.9898 测试集： 0.4738\n",
      "[auc值] 训练集： 1.0000 测试集： 0.7869\n"
     ]
    },
    {
     "data": {
      "image/png": "[encoded data removed]",
      "text/plain": [
       "<Figure size 432x288 with 1 Axes>"
      ]
     },
     "metadata": {},
     "output_type": "display_data"
    }
   ],
   "source": [
    "# lightGBM\n",
    "model_metrics(lgb, X_train, X_test, y_train, y_test)"
   ]
  },
  {
   "cell_type": "code",
   "execution_count": null,
   "metadata": {},
   "outputs": [],
   "source": []
  }
 ],
 "metadata": {
  "kernelspec": {
   "display_name": "Python 3",
   "language": "python",
   "name": "python3"
  },
  "language_info": {
   "codemirror_mode": {
    "name": "ipython",
    "version": 3
   },
   "file_extension": ".py",
   "mimetype": "text/x-python",
   "name": "python",
   "nbconvert_exporter": "python",
   "pygments_lexer": "ipython3",
   "version": "3.6.5"
  }
 },
 "nbformat": 4,
 "nbformat_minor": 2
}
