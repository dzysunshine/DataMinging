{
 "cells": [
  {
   "cell_type": "markdown",
   "metadata": {},
   "source": [
    "### 数据预处理 (判定贷款用户是否逾期)\n"
   ]
  },
  {
   "cell_type": "markdown",
   "metadata": {},
   "source": [
    "（特征工程1 - 数据预处理） - 数据类型转换, 无用特征删除, 缺失值处理（尝试不同的填充看效果）及数据探索"
   ]
  },
  {
   "cell_type": "markdown",
   "metadata": {},
   "source": [
    "#### 1. 导入数据集\n"
   ]
  },
  {
   "cell_type": "code",
   "execution_count": 1,
   "metadata": {},
   "outputs": [
    {
     "data": {
      "text/plain": [
       "{dtype('int64'), dtype('float64'), dtype('O')}"
      ]
     },
     "execution_count": 1,
     "metadata": {},
     "output_type": "execute_result"
    }
   ],
   "source": [
    "import numpy as np\n",
    "import pandas as pd\n",
    "import warnings\n",
    "warnings.filterwarnings(\"ignore\")\n",
    "# 数据集预览\n",
    "data = pd.read_csv('data_2.csv')\n",
    "data.drop_duplicates(inplace=True)    # 去重\n",
    "\n",
    "y = data.status\n",
    "X = data.drop('status', axis=1)\n",
    "\n",
    "# 观测正负样本是否均衡\n",
    "y.value_counts()\n",
    "# 观察变量类型\n",
    "set(X.dtypes)    # 输出: {dtype('int64'), dtype('float64'), dtype('O')}"
   ]
  },
  {
   "cell_type": "markdown",
   "metadata": {},
   "source": [
    "#### 2. 删除无用特征"
   ]
  },
  {
   "cell_type": "markdown",
   "metadata": {},
   "source": [
    "删除原则\n",
    "\n",
    "1）属性值单一的特征;\n",
    "\n",
    "2）观测特征取值以及label意义, 挑选和预测无关的特征"
   ]
  },
  {
   "cell_type": "markdown",
   "metadata": {},
   "source": [
    "1）属性值单一的特征 - ‘bank_card_no’,'source’的取值无区分度"
   ]
  },
  {
   "cell_type": "code",
   "execution_count": 2,
   "metadata": {},
   "outputs": [
    {
     "name": "stdout",
     "output_type": "stream",
     "text": [
      "bank_card_no ['卡号1']\n",
      "source ['xs']\n"
     ]
    }
   ],
   "source": [
    "for col in X.columns:\n",
    "    if len(X[col].unique()) == 1:\n",
    "        print(col, X[col].unique())\n",
    "        X.drop(col, axis = 1, inplace = True)\n"
   ]
  },
  {
   "cell_type": "markdown",
   "metadata": {},
   "source": [
    "2）观测特征取值以及label意义, 是否和预测无关 - ‘Unnamed: 0’, ‘custid’, 'trade_no’和id_name’与预测无关"
   ]
  },
  {
   "cell_type": "code",
   "execution_count": 3,
   "metadata": {},
   "outputs": [
    {
     "name": "stdout",
     "output_type": "stream",
     "text": [
      "Unnamed: 0\n",
      "custid\n",
      "trade_no\n"
     ]
    }
   ],
   "source": [
    "for col in X.columns:\n",
    "    cnt = X[col].count()    # 没有统计缺失值\n",
    "    if len(list(X[col].unique())) in [cnt, cnt+1]:\n",
    "        print(col)\n",
    "\n",
    "# X['Unnamed: 0']\n",
    "# X['custid']\n",
    "# X['trade_no]\n",
    "# X['id_name'].value_counts()\n",
    "X.drop(['Unnamed: 0', 'custid', 'trade_no', 'id_name'], axis=1, inplace=True)\n"
   ]
  },
  {
   "cell_type": "markdown",
   "metadata": {},
   "source": [
    "#### 3. 数据格式化 - X_date"
   ]
  },
  {
   "cell_type": "markdown",
   "metadata": {},
   "source": [
    "（此处主要针对时间特征, 且此处时间特征仅包含日期特征）\n",
    "\n",
    "日期特征处理流程\n",
    "\n",
    "1）浮点型日期转换成字符串型\n",
    "\n",
    "2）取出日期，构建年份、月份、周几等特征\n",
    "\n",
    "3）进一步（特征构建）：groupby对特征进行统计分析"
   ]
  },
  {
   "cell_type": "code",
   "execution_count": 4,
   "metadata": {},
   "outputs": [],
   "source": [
    "dateFeatures = ['first_transaction_time', 'latest_query_time', 'loans_latest_time']\n",
    "X_date = X[dateFeatures]"
   ]
  },
  {
   "cell_type": "markdown",
   "metadata": {},
   "source": [
    "1）浮点型日期转换成字符串型"
   ]
  },
  {
   "cell_type": "code",
   "execution_count": 5,
   "metadata": {},
   "outputs": [],
   "source": [
    "# 首先填充缺失值\n",
    "X_date['first_transaction_time'].fillna(X_date['first_transaction_time'].median(), inplace = True)\n",
    "# 转成字符串型日期\n",
    "X_date['first_transaction_time'] = X_date['first_transaction_time'].apply(lambda x:str(x)[:4] + '-' + str(x)[4:6] + '-' + str(x)[6:8])\n"
   ]
  },
  {
   "cell_type": "markdown",
   "metadata": {},
   "source": [
    "2） 提取特征：年份、月份、星期几"
   ]
  },
  {
   "cell_type": "code",
   "execution_count": 6,
   "metadata": {},
   "outputs": [],
   "source": [
    "X_date['first_transaction_time_year'] = pd.to_datetime(X_date['first_transaction_time']).dt.year\n",
    "X_date['first_transaction_time_month'] = pd.to_datetime(X_date['first_transaction_time']).dt.month\n",
    "X_date['first_transaction_time_weekday'] = pd.to_datetime(X_date['first_transaction_time']).dt.weekday\n",
    "\n",
    "X_date['latest_query_time_year'] = pd.to_datetime(X_date['latest_query_time']).dt.year\n",
    "X_date['latest_query_time_month'] = pd.to_datetime(X_date['latest_query_time']).dt.month\n",
    "X_date['latest_query_time_weekday'] = pd.to_datetime(X_date['latest_query_time']).dt.weekday\n",
    "\n",
    "X_date['loans_latest_time_year'] = pd.to_datetime(X_date['loans_latest_time']).dt.year\n",
    "X_date['loans_latest_time_month'] = pd.to_datetime(X_date['loans_latest_time']).dt.month\n",
    "X_date['loans_latest_time_weekday'] = pd.to_datetime(X_date['loans_latest_time']).dt.weekday\n"
   ]
  },
  {
   "cell_type": "code",
   "execution_count": 7,
   "metadata": {},
   "outputs": [],
   "source": [
    "# 填充缺失值\n",
    "X_date['latest_query_time_year'].fillna(X_date['latest_query_time_year'].median(), inplace = True)\n",
    "X_date['latest_query_time_month'].fillna(X_date['latest_query_time_month'].median(), inplace = True)\n",
    "X_date['latest_query_time_weekday'].fillna(X_date['latest_query_time_weekday'].median(), inplace = True)\n",
    "\n",
    "X_date['loans_latest_time_year'].fillna(X_date['loans_latest_time_year'].median(), inplace = True)\n",
    "X_date['loans_latest_time_month'].fillna(X_date['loans_latest_time_month'].median(), inplace = True)\n",
    "X_date['loans_latest_time_weekday'].fillna(X_date['loans_latest_time_weekday'].median(), inplace = True)\n"
   ]
  },
  {
   "cell_type": "code",
   "execution_count": 8,
   "metadata": {},
   "outputs": [],
   "source": [
    "X_date.drop(dateFeatures, axis = 1, inplace=True)"
   ]
  },
  {
   "cell_type": "markdown",
   "metadata": {},
   "source": [
    "#### 4. 数据处理 - 类别特征 X_cate"
   ]
  },
  {
   "cell_type": "markdown",
   "metadata": {},
   "source": [
    "1）字符型类别特征编码\n",
    "\n",
    "2）缺失值填充\n",
    "\n",
    "3）类别特征Label与One-Hot编码\n",
    "\n",
    "类别特征缺失值填充常用方法：分箱处理（单独填充为一个类别）、众数填充"
   ]
  },
  {
   "cell_type": "code",
   "execution_count": 9,
   "metadata": {},
   "outputs": [
    {
     "name": "stdout",
     "output_type": "stream",
     "text": [
      "regional_mobility 6 [ 3.  4.  1.  2.  5. nan]\n",
      "student_feature 3 [nan  1.  2.]\n",
      "is_high_user 2 [0 1]\n",
      "avg_consume_less_12_valid_month 13 [ 7.  5.  6.  8.  9.  3.  4. 11. 10.  0.  2.  1. nan]\n",
      "top_trans_count_last_1_month 9 [0.15 0.05 0.65 1.   0.1  0.3  0.4  0.2   nan]\n",
      "reg_preference_for_trad 6 ['一线城市' '三线城市' '境外' '二线城市' '其他城市' nan]\n",
      "railway_consume_count_last_12_month 7 [ 0.  1.  2.  4. nan  3. 30.]\n",
      "jewelry_consume_count_last_6_month 8 [ 0.  1. nan  2.  6.  3.  4.  5.]\n"
     ]
    }
   ],
   "source": [
    "# 观察取值和属性名称, 挑选类别特征\n",
    "for col in X:\n",
    "    cnt = len(X[col].unique())\n",
    "    if cnt < 15:\n",
    "        print(col, cnt, X[col].unique())\n"
   ]
  },
  {
   "cell_type": "code",
   "execution_count": 10,
   "metadata": {},
   "outputs": [],
   "source": [
    "categoryFeatures = ['regional_mobility', 'student_feature', 'is_high_user', 'avg_consume_less_12_valid_month', 'reg_preference_for_trad']\n",
    "X_cate = X[categoryFeatures]\n"
   ]
  },
  {
   "cell_type": "markdown",
   "metadata": {},
   "source": [
    "1）字符型类别特征编码"
   ]
  },
  {
   "cell_type": "code",
   "execution_count": 11,
   "metadata": {},
   "outputs": [],
   "source": [
    "dic = {}\n",
    "for i, val in enumerate(list(X_cate['reg_preference_for_trad'].unique())):\n",
    "    dic[val] = i\n",
    "\n",
    "X_cate['reg_preference_for_trad'] = X_cate['reg_preference_for_trad'].map(dic)\n"
   ]
  },
  {
   "cell_type": "markdown",
   "metadata": {},
   "source": [
    "2）缺失值填充：单独填充为一个类别/众数填充\n",
    "\n",
    "student_feature 缺失占比一般以上, 将其缺失值单独填充为1个类别（用-1填充）。"
   ]
  },
  {
   "cell_type": "code",
   "execution_count": 12,
   "metadata": {},
   "outputs": [],
   "source": [
    "X_cate['student_feature'].value_counts()\n",
    "X_cate['student_feature'].fillna(-1, inplace = True)\n"
   ]
  },
  {
   "cell_type": "markdown",
   "metadata": {},
   "source": [
    "其他特征缺失值数目较少, 考虑用众数填充"
   ]
  },
  {
   "cell_type": "code",
   "execution_count": 13,
   "metadata": {},
   "outputs": [],
   "source": [
    "for col in X_cate.columns:\n",
    "    summ = X_cate[col].isnull().sum()\n",
    "    if summ:\n",
    "        X_cate[col].fillna(X_cate[col].mode()[0], inplace = True)\n"
   ]
  },
  {
   "cell_type": "markdown",
   "metadata": {},
   "source": [
    "3）类别特征Label与One-Hot编码"
   ]
  },
  {
   "cell_type": "markdown",
   "metadata": {},
   "source": [
    "#### 5. 数据处理 - 其他非数值型特征"
   ]
  },
  {
   "cell_type": "code",
   "execution_count": 14,
   "metadata": {},
   "outputs": [
    {
     "data": {
      "text/html": [
       "<div>\n",
       "<style scoped>\n",
       "    .dataframe tbody tr th:only-of-type {\n",
       "        vertical-align: middle;\n",
       "    }\n",
       "\n",
       "    .dataframe tbody tr th {\n",
       "        vertical-align: top;\n",
       "    }\n",
       "\n",
       "    .dataframe thead th {\n",
       "        text-align: right;\n",
       "    }\n",
       "</style>\n",
       "<table border=\"1\" class=\"dataframe\">\n",
       "  <thead>\n",
       "    <tr style=\"text-align: right;\">\n",
       "      <th></th>\n",
       "      <th>reg_preference_for_trad</th>\n",
       "      <th>latest_query_time</th>\n",
       "      <th>loans_latest_time</th>\n",
       "    </tr>\n",
       "  </thead>\n",
       "  <tbody>\n",
       "    <tr>\n",
       "      <th>0</th>\n",
       "      <td>一线城市</td>\n",
       "      <td>2018-04-25</td>\n",
       "      <td>2018-04-19</td>\n",
       "    </tr>\n",
       "    <tr>\n",
       "      <th>1</th>\n",
       "      <td>一线城市</td>\n",
       "      <td>2018-05-03</td>\n",
       "      <td>2018-05-05</td>\n",
       "    </tr>\n",
       "    <tr>\n",
       "      <th>2</th>\n",
       "      <td>一线城市</td>\n",
       "      <td>2018-05-05</td>\n",
       "      <td>2018-05-01</td>\n",
       "    </tr>\n",
       "    <tr>\n",
       "      <th>3</th>\n",
       "      <td>三线城市</td>\n",
       "      <td>2018-05-05</td>\n",
       "      <td>2018-05-03</td>\n",
       "    </tr>\n",
       "    <tr>\n",
       "      <th>4</th>\n",
       "      <td>一线城市</td>\n",
       "      <td>2018-04-15</td>\n",
       "      <td>2018-01-07</td>\n",
       "    </tr>\n",
       "  </tbody>\n",
       "</table>\n",
       "</div>"
      ],
      "text/plain": [
       "  reg_preference_for_trad latest_query_time loans_latest_time\n",
       "0                    一线城市        2018-04-25        2018-04-19\n",
       "1                    一线城市        2018-05-03        2018-05-05\n",
       "2                    一线城市        2018-05-05        2018-05-01\n",
       "3                    三线城市        2018-05-05        2018-05-03\n",
       "4                    一线城市        2018-04-15        2018-01-07"
      ]
     },
     "execution_count": 14,
     "metadata": {},
     "output_type": "execute_result"
    }
   ],
   "source": [
    "X_str = X.select_dtypes(include=['O']).copy() \n",
    "X_str.head()\n"
   ]
  },
  {
   "cell_type": "markdown",
   "metadata": {},
   "source": [
    "#### 6. 数据处理 - 数值型特征 X_num"
   ]
  },
  {
   "cell_type": "markdown",
   "metadata": {},
   "source": [
    "1）缺失值处理\n",
    "\n",
    "2）去掉取值变化小的特征：统计各个列标准差，将标准差小于0.1的特征剔除\n",
    "\n",
    "连续特征缺失值填充常用方法：中位数填充，平均数一般不用的(均值受极端值影响太大)。"
   ]
  },
  {
   "cell_type": "code",
   "execution_count": 15,
   "metadata": {},
   "outputs": [
    {
     "name": "stdout",
     "output_type": "stream",
     "text": [
      "regional_mobility\n",
      "student_feature\n",
      "is_high_user\n",
      "first_transaction_time\n",
      "avg_consume_less_12_valid_month\n"
     ]
    }
   ],
   "source": [
    "X_num = X.select_dtypes(exclude=['O']).copy()\n",
    "for col in X_num.columns:\n",
    "    if col in dateFeatures + categoryFeatures:\n",
    "        print(col)\n",
    "        X_num.drop(col, axis = 1, inplace = True)\n"
   ]
  },
  {
   "cell_type": "markdown",
   "metadata": {},
   "source": [
    "1）缺失值处理\n",
    "\n",
    "主要填充方法采用众数、中位数和模型填充等，平均数一般不用的(均值受极端值影响太大)。"
   ]
  },
  {
   "cell_type": "code",
   "execution_count": 16,
   "metadata": {},
   "outputs": [
    {
     "name": "stdout",
     "output_type": "stream",
     "text": [
      "8.9609 % cross_consume_count_last_1_month\n",
      "6.3946 % apply_score\n",
      "6.3946 % apply_credibility\n",
      "6.3946 % query_org_count\n",
      "6.3946 % query_finance_count\n",
      "6.3946 % query_cash_count\n",
      "6.3946 % query_sum_count\n",
      "6.3946 % latest_one_month_apply\n",
      "6.3946 % latest_three_month_apply\n",
      "6.3946 % latest_six_month_apply\n"
     ]
    }
   ],
   "source": [
    "# 统计各列缺失值的比例\n",
    "col_missing = {}\n",
    "for col in X_num.columns:\n",
    "    summ = X_num[col].isnull().sum()\n",
    "    if summ:\n",
    "        col_missing[col] = float('%.4f'%(summ*100/len(data)))\n",
    "    \n",
    "col_missing = sorted(col_missing.items(), key = lambda d:-d[1])\n",
    "for col, rate in col_missing[:10]:\n",
    "    print(rate, '%', col)\n"
   ]
  },
  {
   "cell_type": "markdown",
   "metadata": {},
   "source": [
    "缺失特征用中位数填充。"
   ]
  },
  {
   "cell_type": "code",
   "execution_count": 17,
   "metadata": {},
   "outputs": [],
   "source": [
    "for col in X_num.columns:\n",
    "    summ = X_num[col].isnull().sum()\n",
    "    if summ:\n",
    "        X_num[col].fillna(X_num[col].median(), inplace = True)"
   ]
  },
  {
   "cell_type": "markdown",
   "metadata": {},
   "source": [
    "2）去掉取值变化小的特征"
   ]
  },
  {
   "cell_type": "code",
   "execution_count": 18,
   "metadata": {},
   "outputs": [
    {
     "name": "stdout",
     "output_type": "stream",
     "text": [
      "low_volume_percent 0.04151908997545957\n",
      "avg_price_top_last_12_valid_month 0.0993155786043876\n"
     ]
    }
   ],
   "source": [
    "for col in X_num.columns:\n",
    "    rate = X_num[col].std()\n",
    "    if rate < 0.1:\n",
    "        print(col, rate)\n",
    "        X_num.drop(col, axis = 1, inplace = True)\n"
   ]
  },
  {
   "cell_type": "markdown",
   "metadata": {},
   "source": [
    "3） 归一化（此处只是示例，代码部分没有实际运行）\n",
    "\n",
    "归一化, 可以加快梯度下降求最优解的速度, 也有利于提高精度"
   ]
  },
  {
   "cell_type": "code",
   "execution_count": 19,
   "metadata": {},
   "outputs": [],
   "source": [
    "# 最大最小归一化\n",
    "X_num = X_num.apply(lambda x: (x - np.min(x)) / (np.max(x) - np.min(x)))"
   ]
  },
  {
   "cell_type": "markdown",
   "metadata": {},
   "source": [
    "#### 7. 特征拼接与存储"
   ]
  },
  {
   "cell_type": "code",
   "execution_count": 20,
   "metadata": {},
   "outputs": [],
   "source": [
    "X = pd.concat([X_date, X_cate, X_num], axis=1)\n",
    "import pickle\n",
    "with open('feature.pkl', 'wb') as f:\n",
    "    pickle.dump(X, f)"
   ]
  },
  {
   "cell_type": "code",
   "execution_count": null,
   "metadata": {},
   "outputs": [],
   "source": []
  },
  {
   "cell_type": "code",
   "execution_count": null,
   "metadata": {},
   "outputs": [],
   "source": []
  }
 ],
 "metadata": {
  "kernelspec": {
   "display_name": "Python 3",
   "language": "python",
   "name": "python3"
  },
  "language_info": {
   "codemirror_mode": {
    "name": "ipython",
    "version": 3
   },
   "file_extension": ".py",
   "mimetype": "text/x-python",
   "name": "python",
   "nbconvert_exporter": "python",
   "pygments_lexer": "ipython3",
   "version": "3.6.5"
  }
 },
 "nbformat": 4,
 "nbformat_minor": 2
}
