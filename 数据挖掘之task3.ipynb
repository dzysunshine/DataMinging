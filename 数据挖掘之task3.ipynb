{
 "cells": [
  {
   "cell_type": "markdown",
   "metadata": {},
   "source": [
    "### （模型调优） - 使用网格搜索对模型进行调优, 并采用五折交叉验证的方式进行模型评估"
   ]
  },
  {
   "cell_type": "code",
   "execution_count": null,
   "metadata": {},
   "outputs": [],
   "source": []
  },
  {
   "cell_type": "code",
   "execution_count": 1,
   "metadata": {},
   "outputs": [
    {
     "name": "stdout",
     "output_type": "stream",
     "text": [
      "(4754, 90)\n"
     ]
    },
    {
     "data": {
      "text/html": [
       "<div>\n",
       "<style scoped>\n",
       "    .dataframe tbody tr th:only-of-type {\n",
       "        vertical-align: middle;\n",
       "    }\n",
       "\n",
       "    .dataframe tbody tr th {\n",
       "        vertical-align: top;\n",
       "    }\n",
       "\n",
       "    .dataframe thead th {\n",
       "        text-align: right;\n",
       "    }\n",
       "</style>\n",
       "<table border=\"1\" class=\"dataframe\">\n",
       "  <thead>\n",
       "    <tr style=\"text-align: right;\">\n",
       "      <th></th>\n",
       "      <th>Unnamed: 0</th>\n",
       "      <th>custid</th>\n",
       "      <th>trade_no</th>\n",
       "      <th>bank_card_no</th>\n",
       "      <th>low_volume_percent</th>\n",
       "      <th>middle_volume_percent</th>\n",
       "      <th>take_amount_in_later_12_month_highest</th>\n",
       "      <th>trans_amount_increase_rate_lately</th>\n",
       "      <th>trans_activity_month</th>\n",
       "      <th>trans_activity_day</th>\n",
       "      <th>...</th>\n",
       "      <th>loans_max_limit</th>\n",
       "      <th>loans_avg_limit</th>\n",
       "      <th>consfin_credit_limit</th>\n",
       "      <th>consfin_credibility</th>\n",
       "      <th>consfin_org_count_current</th>\n",
       "      <th>consfin_product_count</th>\n",
       "      <th>consfin_max_limit</th>\n",
       "      <th>consfin_avg_limit</th>\n",
       "      <th>latest_query_day</th>\n",
       "      <th>loans_latest_day</th>\n",
       "    </tr>\n",
       "  </thead>\n",
       "  <tbody>\n",
       "    <tr>\n",
       "      <th>0</th>\n",
       "      <td>5</td>\n",
       "      <td>2791858</td>\n",
       "      <td>20180507115231274000000023057383</td>\n",
       "      <td>卡号1</td>\n",
       "      <td>0.01</td>\n",
       "      <td>0.99</td>\n",
       "      <td>0</td>\n",
       "      <td>0.90</td>\n",
       "      <td>0.55</td>\n",
       "      <td>0.313</td>\n",
       "      <td>...</td>\n",
       "      <td>2900.0</td>\n",
       "      <td>1688.0</td>\n",
       "      <td>1200.0</td>\n",
       "      <td>75.0</td>\n",
       "      <td>1.0</td>\n",
       "      <td>2.0</td>\n",
       "      <td>1200.0</td>\n",
       "      <td>1200.0</td>\n",
       "      <td>12.0</td>\n",
       "      <td>18.0</td>\n",
       "    </tr>\n",
       "    <tr>\n",
       "      <th>1</th>\n",
       "      <td>10</td>\n",
       "      <td>534047</td>\n",
       "      <td>20180507121002192000000023073000</td>\n",
       "      <td>卡号1</td>\n",
       "      <td>0.02</td>\n",
       "      <td>0.94</td>\n",
       "      <td>2000</td>\n",
       "      <td>1.28</td>\n",
       "      <td>1.00</td>\n",
       "      <td>0.458</td>\n",
       "      <td>...</td>\n",
       "      <td>3500.0</td>\n",
       "      <td>1758.0</td>\n",
       "      <td>15100.0</td>\n",
       "      <td>80.0</td>\n",
       "      <td>5.0</td>\n",
       "      <td>6.0</td>\n",
       "      <td>22800.0</td>\n",
       "      <td>9360.0</td>\n",
       "      <td>4.0</td>\n",
       "      <td>2.0</td>\n",
       "    </tr>\n",
       "    <tr>\n",
       "      <th>2</th>\n",
       "      <td>12</td>\n",
       "      <td>2849787</td>\n",
       "      <td>20180507125159718000000023114911</td>\n",
       "      <td>卡号1</td>\n",
       "      <td>0.04</td>\n",
       "      <td>0.96</td>\n",
       "      <td>0</td>\n",
       "      <td>1.00</td>\n",
       "      <td>1.00</td>\n",
       "      <td>0.114</td>\n",
       "      <td>...</td>\n",
       "      <td>1600.0</td>\n",
       "      <td>1250.0</td>\n",
       "      <td>4200.0</td>\n",
       "      <td>87.0</td>\n",
       "      <td>1.0</td>\n",
       "      <td>1.0</td>\n",
       "      <td>4200.0</td>\n",
       "      <td>4200.0</td>\n",
       "      <td>2.0</td>\n",
       "      <td>6.0</td>\n",
       "    </tr>\n",
       "    <tr>\n",
       "      <th>3</th>\n",
       "      <td>13</td>\n",
       "      <td>1809708</td>\n",
       "      <td>20180507121358683000000388283484</td>\n",
       "      <td>卡号1</td>\n",
       "      <td>0.00</td>\n",
       "      <td>0.96</td>\n",
       "      <td>2000</td>\n",
       "      <td>0.13</td>\n",
       "      <td>0.57</td>\n",
       "      <td>0.777</td>\n",
       "      <td>...</td>\n",
       "      <td>3200.0</td>\n",
       "      <td>1541.0</td>\n",
       "      <td>16300.0</td>\n",
       "      <td>80.0</td>\n",
       "      <td>5.0</td>\n",
       "      <td>5.0</td>\n",
       "      <td>30000.0</td>\n",
       "      <td>12180.0</td>\n",
       "      <td>2.0</td>\n",
       "      <td>4.0</td>\n",
       "    </tr>\n",
       "    <tr>\n",
       "      <th>4</th>\n",
       "      <td>14</td>\n",
       "      <td>2499829</td>\n",
       "      <td>20180507115448545000000388205844</td>\n",
       "      <td>卡号1</td>\n",
       "      <td>0.01</td>\n",
       "      <td>0.99</td>\n",
       "      <td>0</td>\n",
       "      <td>0.46</td>\n",
       "      <td>1.00</td>\n",
       "      <td>0.175</td>\n",
       "      <td>...</td>\n",
       "      <td>2300.0</td>\n",
       "      <td>1630.0</td>\n",
       "      <td>8300.0</td>\n",
       "      <td>79.0</td>\n",
       "      <td>2.0</td>\n",
       "      <td>2.0</td>\n",
       "      <td>8400.0</td>\n",
       "      <td>8250.0</td>\n",
       "      <td>22.0</td>\n",
       "      <td>120.0</td>\n",
       "    </tr>\n",
       "  </tbody>\n",
       "</table>\n",
       "<p>5 rows × 90 columns</p>\n",
       "</div>"
      ],
      "text/plain": [
       "   Unnamed: 0   custid                          trade_no bank_card_no  \\\n",
       "0           5  2791858  20180507115231274000000023057383          卡号1   \n",
       "1          10   534047  20180507121002192000000023073000          卡号1   \n",
       "2          12  2849787  20180507125159718000000023114911          卡号1   \n",
       "3          13  1809708  20180507121358683000000388283484          卡号1   \n",
       "4          14  2499829  20180507115448545000000388205844          卡号1   \n",
       "\n",
       "   low_volume_percent  middle_volume_percent  \\\n",
       "0                0.01                   0.99   \n",
       "1                0.02                   0.94   \n",
       "2                0.04                   0.96   \n",
       "3                0.00                   0.96   \n",
       "4                0.01                   0.99   \n",
       "\n",
       "   take_amount_in_later_12_month_highest  trans_amount_increase_rate_lately  \\\n",
       "0                                      0                               0.90   \n",
       "1                                   2000                               1.28   \n",
       "2                                      0                               1.00   \n",
       "3                                   2000                               0.13   \n",
       "4                                      0                               0.46   \n",
       "\n",
       "   trans_activity_month  trans_activity_day        ...         \\\n",
       "0                  0.55               0.313        ...          \n",
       "1                  1.00               0.458        ...          \n",
       "2                  1.00               0.114        ...          \n",
       "3                  0.57               0.777        ...          \n",
       "4                  1.00               0.175        ...          \n",
       "\n",
       "   loans_max_limit  loans_avg_limit  consfin_credit_limit  \\\n",
       "0           2900.0           1688.0                1200.0   \n",
       "1           3500.0           1758.0               15100.0   \n",
       "2           1600.0           1250.0                4200.0   \n",
       "3           3200.0           1541.0               16300.0   \n",
       "4           2300.0           1630.0                8300.0   \n",
       "\n",
       "   consfin_credibility  consfin_org_count_current  consfin_product_count  \\\n",
       "0                 75.0                        1.0                    2.0   \n",
       "1                 80.0                        5.0                    6.0   \n",
       "2                 87.0                        1.0                    1.0   \n",
       "3                 80.0                        5.0                    5.0   \n",
       "4                 79.0                        2.0                    2.0   \n",
       "\n",
       "   consfin_max_limit  consfin_avg_limit  latest_query_day  loans_latest_day  \n",
       "0             1200.0             1200.0              12.0              18.0  \n",
       "1            22800.0             9360.0               4.0               2.0  \n",
       "2             4200.0             4200.0               2.0               6.0  \n",
       "3            30000.0            12180.0               2.0               4.0  \n",
       "4             8400.0             8250.0              22.0             120.0  \n",
       "\n",
       "[5 rows x 90 columns]"
      ]
     },
     "execution_count": 1,
     "metadata": {},
     "output_type": "execute_result"
    }
   ],
   "source": [
    "import pandas as pd\n",
    "\n",
    "import warnings\n",
    "warnings.filterwarnings(\"ignore\")\n",
    "\n",
    "# 数据集预览\n",
    "data = pd.read_csv('data_2.csv')\n",
    "# 去重\n",
    "data.drop_duplicates(inplace=True)\n",
    "print(data.shape)\n",
    "data.head()\n"
   ]
  },
  {
   "cell_type": "code",
   "execution_count": 2,
   "metadata": {},
   "outputs": [
    {
     "data": {
      "text/plain": [
       "0    3561\n",
       "1    1193\n",
       "Name: status, dtype: int64"
      ]
     },
     "execution_count": 2,
     "metadata": {},
     "output_type": "execute_result"
    }
   ],
   "source": [
    "import pickle\n",
    "# 载入特征\n",
    "with open('feature.pkl', 'rb') as f:\n",
    "    X = pickle.load(f)\n",
    "\n",
    "# 观测正负样本是否均衡\n",
    "y = data.status\n",
    "y.value_counts()\n"
   ]
  },
  {
   "cell_type": "markdown",
   "metadata": {},
   "source": [
    "#### 1. 数据集划分"
   ]
  },
  {
   "cell_type": "code",
   "execution_count": 33,
   "metadata": {},
   "outputs": [],
   "source": [
    "# 划分训练集测试集\n",
    "from sklearn.model_selection import train_test_split\n",
    "from sklearn.preprocessing import StandardScaler\n",
    "\n",
    "X_train, X_test, y_train, y_test = train_test_split(X, y, test_size=0.3,random_state=2333)\n",
    "\n",
    "# 特征归一化\n",
    "std = StandardScaler()\n",
    "X_train = std.fit_transform(X_train)\n",
    "X_test = std.transform(X_test)\n"
   ]
  },
  {
   "cell_type": "markdown",
   "metadata": {},
   "source": [
    "#### 2. 模型评估"
   ]
  },
  {
   "cell_type": "code",
   "execution_count": 4,
   "metadata": {},
   "outputs": [],
   "source": [
    "from sklearn.metrics import accuracy_score, roc_auc_score\n",
    "\n",
    "def model_metrics(clf, X_train, X_test, y_train, y_test):\n",
    "    # 预测\n",
    "    y_train_pred = clf.predict(X_train)\n",
    "    y_test_pred = clf.predict(X_test)\n",
    "    \n",
    "    y_train_proba = clf.predict_proba(X_train)[:,1]\n",
    "    y_test_proba = clf.predict_proba(X_test)[:,1]\n",
    "    \n",
    "    # 准确率\n",
    "    print('[准确率]', end = ' ')\n",
    "    print('训练集：', '%.4f'%accuracy_score(y_train, y_train_pred), end = ' ')\n",
    "    print('测试集：', '%.4f'%accuracy_score(y_test, y_test_pred))\n",
    "    \n",
    "    # auc取值：用roc_auc_score或auc\n",
    "    print('[auc值]', end = ' ')\n",
    "    print('训练集：', '%.4f'%roc_auc_score(y_train, y_train_proba), end = ' ')\n",
    "    print('测试集：', '%.4f'%roc_auc_score(y_test, y_test_proba))\n"
   ]
  },
  {
   "cell_type": "markdown",
   "metadata": {},
   "source": [
    "导入包"
   ]
  },
  {
   "cell_type": "code",
   "execution_count": 5,
   "metadata": {},
   "outputs": [],
   "source": [
    "from sklearn.model_selection import GridSearchCV\n",
    "from sklearn.linear_model import LogisticRegression\n",
    "from sklearn import svm\n",
    "from sklearn.tree import DecisionTreeClassifier\n",
    "from xgboost.sklearn import XGBClassifier\n",
    "from lightgbm.sklearn import LGBMClassifier\n"
   ]
  },
  {
   "cell_type": "markdown",
   "metadata": {},
   "source": [
    "#### 3. LR模型"
   ]
  },
  {
   "cell_type": "code",
   "execution_count": 6,
   "metadata": {},
   "outputs": [
    {
     "name": "stdout",
     "output_type": "stream",
     "text": [
      "最佳参数： {'C': 0.1, 'penalty': 'l1'}\n",
      "训练集的最佳分数： 0.7839999633154295\n",
      "测试集的最佳分数： 0.7994840710905724\n"
     ]
    }
   ],
   "source": [
    "lr = LogisticRegression()\n",
    "param = {'C': [1e-3,0.01,0.1,1,10,100,1e3], 'penalty':['l1', 'l2']}\n",
    "gsearch = GridSearchCV(lr, param_grid = param,scoring ='roc_auc', cv=5)\n",
    "gsearch.fit(X_train, y_train)\n",
    "print('最佳参数：',gsearch.best_params_)\n",
    "print('训练集的最佳分数：', gsearch.best_score_)\n",
    "print('测试集的最佳分数：', gsearch.score(X_test, y_test))"
   ]
  },
  {
   "cell_type": "code",
   "execution_count": 7,
   "metadata": {},
   "outputs": [
    {
     "name": "stdout",
     "output_type": "stream",
     "text": [
      "[准确率] 训练集： 0.7959 测试集： 0.8073\n",
      "[auc值] 训练集： 0.8016 测试集： 0.7995\n"
     ]
    }
   ],
   "source": [
    "lr = LogisticRegression(C = 0.1, penalty = 'l1')\n",
    "lr.fit(X_train, y_train)\n",
    "model_metrics(lr, X_train, X_test, y_train, y_test)"
   ]
  },
  {
   "cell_type": "markdown",
   "metadata": {},
   "source": [
    "#### 4. SVM模型"
   ]
  },
  {
   "cell_type": "markdown",
   "metadata": {},
   "source": [
    "调参范围可设为’gamma’:[0.001,0.01,0.1,1,10,100], ‘C’:[0.001,0.01,0.1,1,10,100]}。鉴于时间原因, 下面网格搜索时选用较小区间。"
   ]
  },
  {
   "cell_type": "code",
   "execution_count": 8,
   "metadata": {},
   "outputs": [
    {
     "name": "stdout",
     "output_type": "stream",
     "text": [
      "最佳参数： {'C': 0.01}\n",
      "训练集的最佳分数： 0.7849963207712166\n",
      "测试集的最佳分数： 0.810812878176418\n"
     ]
    }
   ],
   "source": [
    "# 1) 线性SVM\n",
    "svm_linear = svm.SVC(kernel = 'linear', probability=True)\n",
    "param = {'C':[0.01,0.1,1]}\n",
    "gsearch = GridSearchCV(svm_linear, param_grid = param,scoring ='roc_auc', cv=5)\n",
    "gsearch.fit(X_train, y_train)\n",
    "\n",
    "print('最佳参数：',gsearch.best_params_)\n",
    "print('训练集的最佳分数：', gsearch.best_score_)\n",
    "print('测试集的最佳分数：', gsearch.score(X_test, y_test))"
   ]
  },
  {
   "cell_type": "code",
   "execution_count": 9,
   "metadata": {},
   "outputs": [
    {
     "name": "stdout",
     "output_type": "stream",
     "text": [
      "[准确率] 训练集： 0.7848 测试集： 0.7912\n",
      "[auc值] 训练集： 0.8044 测试集： 0.8108\n"
     ]
    }
   ],
   "source": [
    "svm_linear = svm.SVC(C = 0.01, kernel = 'linear', probability=True)\n",
    "svm_linear.fit(X_train, y_train)\n",
    "model_metrics(svm_linear, X_train, X_test, y_train, y_test)\n"
   ]
  },
  {
   "cell_type": "code",
   "execution_count": 10,
   "metadata": {},
   "outputs": [
    {
     "name": "stdout",
     "output_type": "stream",
     "text": [
      "最佳参数： {'C': 0.01}\n",
      "训练集的最佳分数： 0.7359832819347378\n",
      "测试集的最佳分数： 0.7259879405573931\n"
     ]
    }
   ],
   "source": [
    "# 2) 多项式SVM\n",
    "svm_poly = svm.SVC(kernel = 'poly', probability=True)\n",
    "param = {'C':[0.01,0.1,1]}\n",
    "gsearch = GridSearchCV(svm_poly, param_grid = param,scoring ='roc_auc', cv=5)\n",
    "gsearch.fit(X_train, y_train)\n",
    "\n",
    "print('最佳参数：',gsearch.best_params_)\n",
    "print('训练集的最佳分数：', gsearch.best_score_)\n",
    "print('测试集的最佳分数：', gsearch.score(X_test, y_test))\n"
   ]
  },
  {
   "cell_type": "code",
   "execution_count": 11,
   "metadata": {},
   "outputs": [
    {
     "name": "stdout",
     "output_type": "stream",
     "text": [
      "[准确率] 训练集： 0.7538 测试集： 0.7547\n",
      "[auc值] 训练集： 0.8690 测试集： 0.7260\n"
     ]
    }
   ],
   "source": [
    "svm_poly =  svm.SVC(C = 0.01, kernel = 'poly', probability=True)\n",
    "svm_poly.fit(X_train, y_train)\n",
    "model_metrics(svm_poly, X_train, X_test, y_train, y_test)\n"
   ]
  },
  {
   "cell_type": "code",
   "execution_count": 12,
   "metadata": {},
   "outputs": [
    {
     "name": "stdout",
     "output_type": "stream",
     "text": [
      "最佳参数： {'C': 0.01, 'gamma': 0.01}\n",
      "训练集的最佳分数： 0.7370458508629731\n",
      "测试集的最佳分数： 0.7247746108112956\n"
     ]
    }
   ],
   "source": [
    "# 3) 高斯SVM\n",
    "svm_rbf = svm.SVC(probability=True)\n",
    "param = {'gamma':[0.01,0.1,1,10], \n",
    "         'C':[0.01,0.1,1]}\n",
    "gsearch = GridSearchCV(svm_poly, param_grid = param,scoring ='roc_auc', cv=5)\n",
    "gsearch.fit(X_train, y_train)\n",
    "\n",
    "print('最佳参数：',gsearch.best_params_)\n",
    "print('训练集的最佳分数：', gsearch.best_score_)\n",
    "print('测试集的最佳分数：', gsearch.score(X_test, y_test))\n"
   ]
  },
  {
   "cell_type": "code",
   "execution_count": 13,
   "metadata": {},
   "outputs": [
    {
     "name": "stdout",
     "output_type": "stream",
     "text": [
      "[准确率] 训练集： 0.7475 测试集： 0.7526\n",
      "[auc值] 训练集： 0.8614 测试集： 0.7944\n"
     ]
    }
   ],
   "source": [
    "svm_rbf =  svm.SVC(gamma = 0.01, C =0.01 , probability=True)\n",
    "svm_rbf.fit(X_train, y_train)\n",
    "model_metrics(svm_rbf, X_train, X_test, y_train, y_test)\n"
   ]
  },
  {
   "cell_type": "code",
   "execution_count": 14,
   "metadata": {},
   "outputs": [
    {
     "name": "stdout",
     "output_type": "stream",
     "text": [
      "最佳参数： {'C': 0.01}\n",
      "训练集的最佳分数： 0.7747312761692854\n",
      "测试集的最佳分数： 0.7803266494690364\n"
     ]
    }
   ],
   "source": [
    "# 4) sigmoid - SVM\n",
    "svm_sigmoid = svm.SVC(kernel = 'sigmoid',probability=True)\n",
    "param = {'C':[0.01,0.1,1]}\n",
    "gsearch = GridSearchCV(svm_sigmoid, param_grid = param,scoring ='roc_auc', cv=5)\n",
    "gsearch.fit(X_train, y_train)\n",
    "\n",
    "print('最佳参数：',gsearch.best_params_)\n",
    "print('训练集的最佳分数：', gsearch.best_score_)\n",
    "print('测试集的最佳分数：', gsearch.score(X_test, y_test))\n",
    "\n"
   ]
  },
  {
   "cell_type": "code",
   "execution_count": 15,
   "metadata": {},
   "outputs": [
    {
     "name": "stdout",
     "output_type": "stream",
     "text": [
      "[准确率] 训练集： 0.7475 测试集： 0.7526\n",
      "[auc值] 训练集： 0.7615 测试集： 0.7803\n"
     ]
    }
   ],
   "source": [
    "svm_sigmoid =  svm.SVC(C = 0.01, kernel = 'sigmoid',probability=True)\n",
    "svm_sigmoid.fit(X_train, y_train)\n",
    "model_metrics(svm_sigmoid, X_train, X_test, y_train, y_test)\n"
   ]
  },
  {
   "cell_type": "markdown",
   "metadata": {},
   "source": [
    "#### 5. 决策树模型"
   ]
  },
  {
   "cell_type": "markdown",
   "metadata": {},
   "source": [
    "1）首先对决策树最大深度max_depth和内部节点再划分所需最小样本数min_samples_split进行网格搜索。"
   ]
  },
  {
   "cell_type": "code",
   "execution_count": 16,
   "metadata": {},
   "outputs": [
    {
     "data": {
      "text/plain": [
       "({'max_depth': 7, 'min_samples_split': 300}, 0.7131396147310323)"
      ]
     },
     "execution_count": 16,
     "metadata": {},
     "output_type": "execute_result"
    }
   ],
   "source": [
    "param = {'max_depth':range(3,14,2), 'min_samples_split':range(100,801,200)}\n",
    "gsearch = GridSearchCV(DecisionTreeClassifier(max_depth=8,min_samples_split=300,min_samples_leaf=20, max_features='sqrt' ,random_state =2333),\n",
    "                       param_grid = param,scoring ='roc_auc', cv=5)\n",
    "\n",
    "gsearch.fit(X_train, y_train)\n",
    "# gsearch.grid_scores_, \n",
    "gsearch.best_params_, gsearch.best_score_\n"
   ]
  },
  {
   "cell_type": "markdown",
   "metadata": {},
   "source": [
    "2）对内部节点再划分所需最小样本数min_samples_split和叶子节点最少样本数min_samples_leaf一起调参。"
   ]
  },
  {
   "cell_type": "code",
   "execution_count": 17,
   "metadata": {},
   "outputs": [
    {
     "data": {
      "text/plain": [
       "({'min_samples_leaf': 70, 'min_samples_split': 250}, 0.7227316610111733)"
      ]
     },
     "execution_count": 17,
     "metadata": {},
     "output_type": "execute_result"
    }
   ],
   "source": [
    "param = {'min_samples_split':range(50,1000,100), 'min_samples_leaf':range(60,101,10)}\n",
    "gsearch = GridSearchCV(DecisionTreeClassifier(max_depth=11,min_samples_split=100,min_samples_leaf=20, max_features='sqrt',random_state =2333),\n",
    "                       param_grid = param,scoring ='roc_auc', cv=5)\n",
    "\n",
    "gsearch.fit(X_train, y_train)\n",
    "# gsearch.grid_scores_, \n",
    "gsearch.best_params_, gsearch.best_score_\n",
    "\n"
   ]
  },
  {
   "cell_type": "markdown",
   "metadata": {},
   "source": [
    "3）再对最大特征数max_features进行网格搜索"
   ]
  },
  {
   "cell_type": "code",
   "execution_count": 18,
   "metadata": {},
   "outputs": [
    {
     "data": {
      "text/plain": [
       "({'max_features': 19}, 0.6989296195704374)"
      ]
     },
     "execution_count": 18,
     "metadata": {},
     "output_type": "execute_result"
    }
   ],
   "source": [
    "param = {'max_features':range(7,20,2)}\n",
    "gsearch = GridSearchCV(DecisionTreeClassifier(max_depth=11,min_samples_split=550,min_samples_leaf=80, max_features='sqrt',random_state =2333),\n",
    "                       param_grid = param,scoring ='roc_auc', cv=5)\n",
    "\n",
    "gsearch.fit(X_train, y_train)\n",
    "# gsearch.grid_scores_, \n",
    "gsearch.best_params_, gsearch.best_score_\n"
   ]
  },
  {
   "cell_type": "markdown",
   "metadata": {},
   "source": [
    "观察最终结果"
   ]
  },
  {
   "cell_type": "code",
   "execution_count": 19,
   "metadata": {},
   "outputs": [
    {
     "name": "stdout",
     "output_type": "stream",
     "text": [
      "[准确率] 训练集： 0.7668 测试集： 0.7708\n",
      "[auc值] 训练集： 0.7340 测试集： 0.6819\n"
     ]
    }
   ],
   "source": [
    "dt = DecisionTreeClassifier(max_depth=11,min_samples_split=550,min_samples_leaf=80,max_features=19,random_state =2333)\n",
    "dt.fit(X_train, y_train)\n",
    "model_metrics(dt, X_train, X_test, y_train, y_test)\n",
    "\n"
   ]
  },
  {
   "cell_type": "markdown",
   "metadata": {},
   "source": [
    "#### 6. XGBoost模型"
   ]
  },
  {
   "cell_type": "markdown",
   "metadata": {},
   "source": [
    "1、max_depth = 5 :这个参数的取值最好在3-10之间。我选的起始值为5，但是你也可以选择其它的值。起始值在4-6之间都是不错的选择。\n",
    "\n",
    "2、min_child_weight = 1:在这里选了一个比较小的值，因为这是一个极不平衡的分类问题。因此，某些叶子节点下的值会比较小。\n",
    "\n",
    "3、gamma = 0: 起始值也可以选其它比较小的值，在0.1到0.2之间就可以。这个参数后继也是要调整的。\n",
    "\n",
    "4、subsample, colsample_bytree = 0.8: 这个是最常见的初始值了。典型值的范围在0.5-0.9之间。"
   ]
  },
  {
   "cell_type": "markdown",
   "metadata": {},
   "source": [
    "首先看一下默认参数的结果"
   ]
  },
  {
   "cell_type": "code",
   "execution_count": 20,
   "metadata": {},
   "outputs": [
    {
     "name": "stdout",
     "output_type": "stream",
     "text": [
      "[准确率] 训练集： 0.8530 测试集： 0.8024\n",
      "[auc值] 训练集： 0.9155 测试集： 0.7932\n"
     ]
    }
   ],
   "source": [
    "import warnings\n",
    "warnings.filterwarnings(\"ignore\")\n",
    "\n",
    "xgb0 = XGBClassifier()\n",
    "xgb0.fit(X_train, y_train)\n",
    "\n",
    "model_metrics(xgb0, X_train, X_test, y_train, y_test)\n"
   ]
  },
  {
   "cell_type": "markdown",
   "metadata": {},
   "source": [
    "1）开始选择一个较小的步长来网格搜索最好的迭代次数。这里，我们将步长初始值设置为0.1, 对于迭代次数进行网格搜索。"
   ]
  },
  {
   "cell_type": "code",
   "execution_count": 21,
   "metadata": {},
   "outputs": [
    {
     "data": {
      "text/plain": [
       "({'n_estimators': 40}, 0.7873905846630749)"
      ]
     },
     "execution_count": 21,
     "metadata": {},
     "output_type": "execute_result"
    }
   ],
   "source": [
    "param_test = {'n_estimators':range(20,200,20)}\n",
    "gsearch = GridSearchCV(estimator = XGBClassifier(learning_rate =0.1, n_estimators=140, max_depth=5, \n",
    "                                                  min_child_weight=1, gamma=0, subsample=0.8, \n",
    "                                                  colsample_bytree=0.8, objective= 'binary:logistic', \n",
    "                                                  nthread=4,scale_pos_weight=1, seed=27), \n",
    "                        param_grid = param_test, scoring='roc_auc',n_jobs=4,iid=False, cv=5)\n",
    "\n",
    "gsearch.fit(X_train, y_train)\n",
    "# gsearch.grid_scores_, \n",
    "gsearch.best_params_, gsearch.best_score_\n"
   ]
  },
  {
   "cell_type": "markdown",
   "metadata": {},
   "source": [
    "2） max_depth 和 min_child_weight 参数调优"
   ]
  },
  {
   "cell_type": "code",
   "execution_count": 23,
   "metadata": {},
   "outputs": [
    {
     "data": {
      "text/plain": [
       "({'max_depth': 5, 'min_child_weight': 9}, 0.7865602296125194)"
      ]
     },
     "execution_count": 23,
     "metadata": {},
     "output_type": "execute_result"
    }
   ],
   "source": [
    "param_test = {'max_depth':range(3,10,2), 'min_child_weight':range(1,12,2)}\n",
    "\n",
    "gsearch = GridSearchCV(estimator = XGBClassifier(learning_rate =0.1, n_estimators=20, max_depth=5, \n",
    "                                                  min_child_weight=1, gamma=0, subsample=0.8, \n",
    "                                                  colsample_bytree=0.8, objective= 'binary:logistic', \n",
    "                                                  nthread=4,scale_pos_weight=1, seed=27), \n",
    "                        param_grid = param_test, scoring='roc_auc',n_jobs=4,iid=False, cv=5)\n",
    "\n",
    "gsearch.fit(X_train, y_train)\n",
    "# gsearch.grid_scores_, \n",
    "gsearch.best_params_, gsearch.best_score_\n"
   ]
  },
  {
   "cell_type": "markdown",
   "metadata": {},
   "source": [
    "可以看出理想的max_depth值为5，理想的min_child_weight值为5。在这个值附近我们可以再进一步调整，来找出理想值。"
   ]
  },
  {
   "cell_type": "markdown",
   "metadata": {},
   "source": [
    "3）gamma参数调优\n"
   ]
  },
  {
   "cell_type": "code",
   "execution_count": 24,
   "metadata": {},
   "outputs": [
    {
     "data": {
      "text/plain": [
       "({'gamma': 0.5}, 0.7854083960638955)"
      ]
     },
     "execution_count": 24,
     "metadata": {},
     "output_type": "execute_result"
    }
   ],
   "source": [
    "param_test = {'gamma':[i/10 for i in range(1,6)]}\n",
    "\n",
    "gsearch = GridSearchCV(estimator = XGBClassifier(learning_rate =0.1, n_estimators=20, max_depth=5, \n",
    "                                                  min_child_weight=5, gamma=0, subsample=0.8, \n",
    "                                                  colsample_bytree=0.8, objective= 'binary:logistic', \n",
    "                                                  nthread=4,scale_pos_weight=1, seed=27), \n",
    "                        param_grid = param_test, scoring='roc_auc',n_jobs=4,iid=False, cv=5)\n",
    "\n",
    "gsearch.fit(X_train, y_train)\n",
    "# gsearch.grid_scores_, \n",
    "gsearch.best_params_, gsearch.best_score_\n"
   ]
  },
  {
   "cell_type": "markdown",
   "metadata": {},
   "source": [
    "4）调整subsample 和 colsample_bytree 参数\n"
   ]
  },
  {
   "cell_type": "code",
   "execution_count": 25,
   "metadata": {},
   "outputs": [
    {
     "data": {
      "text/plain": [
       "({'colsample_bytree': 0.5, 'subsample': 0.8}, 0.7875115774009134)"
      ]
     },
     "execution_count": 25,
     "metadata": {},
     "output_type": "execute_result"
    }
   ],
   "source": [
    "param_test = {'subsample':[i/10 for i in range(5,10)], 'colsample_bytree':[i/10 for i in range(5,10)]}\n",
    "\n",
    "gsearch = GridSearchCV(estimator = XGBClassifier(learning_rate =0.1, n_estimators=20, max_depth=5, \n",
    "                                                  min_child_weight=5, gamma=0.4, subsample=0.8, \n",
    "                                                  colsample_bytree=0.8, objective= 'binary:logistic', \n",
    "                                                  nthread=4,scale_pos_weight=1, seed=27), \n",
    "                        param_grid = param_test, scoring='roc_auc',n_jobs=4,iid=False, cv=5)\n",
    "\n",
    "gsearch.fit(X_train, y_train)\n",
    "# gsearch.grid_scores_, \n",
    "gsearch.best_params_, gsearch.best_score_\n"
   ]
  },
  {
   "cell_type": "markdown",
   "metadata": {},
   "source": [
    "从这里可以看出来，subsample理想取值0.9, colsample_bytree理想取值都是0.9。现在，我们以0.05为步长，在这个值附近尝试取值。"
   ]
  },
  {
   "cell_type": "code",
   "execution_count": 26,
   "metadata": {},
   "outputs": [
    {
     "data": {
      "text/plain": [
       "({'colsample_bytree': 0.95, 'subsample': 0.9}, 0.7875029628911353)"
      ]
     },
     "execution_count": 26,
     "metadata": {},
     "output_type": "execute_result"
    }
   ],
   "source": [
    "param_test = { 'subsample':[i/100 for i in range(85,101,5)], 'colsample_bytree':[i/100 for i in range(85,101,5)]}\n",
    "\n",
    "gsearch = GridSearchCV(estimator = XGBClassifier(learning_rate =0.1, n_estimators=20, max_depth=5, \n",
    "                                                  min_child_weight=5, gamma=0.4, subsample=0.8, \n",
    "                                                  colsample_bytree=0.8, objective= 'binary:logistic', \n",
    "                                                  nthread=4,scale_pos_weight=1, seed=27), \n",
    "                        param_grid = param_test, scoring='roc_auc',n_jobs=4,iid=False, cv=5)\n",
    "\n",
    "gsearch.fit(X_train, y_train)\n",
    "# gsearch.grid_scores_, \n",
    "gsearch.best_params_, gsearch.best_score_\n"
   ]
  },
  {
   "cell_type": "markdown",
   "metadata": {},
   "source": [
    "5）正则化参数调优"
   ]
  },
  {
   "cell_type": "code",
   "execution_count": 27,
   "metadata": {},
   "outputs": [
    {
     "data": {
      "text/plain": [
       "({'reg_alpha': 1}, 0.7853305913122645)"
      ]
     },
     "execution_count": 27,
     "metadata": {},
     "output_type": "execute_result"
    }
   ],
   "source": [
    "#  'reg_alpha':[0, 0.001, 0.005, 0.01, 0.05]\n",
    "param_test = {'reg_alpha':[1e-5, 1e-2, 0.1, 0, 1, 100]}\n",
    "\n",
    "gsearch = GridSearchCV(estimator = XGBClassifier(learning_rate =0.1, n_estimators=20, max_depth=5, \n",
    "                                                  min_child_weight=5, gamma=0.4, subsample=0.95, \n",
    "                                                  colsample_bytree=0.9, objective= 'binary:logistic', \n",
    "                                                  nthread=4,scale_pos_weight=1, seed=27), \n",
    "                        param_grid = param_test, scoring='roc_auc',n_jobs=4,iid=False, cv=5)\n",
    "\n",
    "gsearch.fit(X_train, y_train)\n",
    "# gsearch.grid_scores_, \n",
    "gsearch.best_params_, gsearch.best_score_\n"
   ]
  },
  {
   "cell_type": "markdown",
   "metadata": {},
   "source": [
    "6）继续从1）循环调整, 此处省略步骤。\n",
    "\n",
    "最终选取的模型参数如下："
   ]
  },
  {
   "cell_type": "code",
   "execution_count": 28,
   "metadata": {},
   "outputs": [
    {
     "data": {
      "text/plain": [
       "XGBClassifier(base_score=0.5, booster='gbtree', colsample_bylevel=1,\n",
       "       colsample_bytree=0.9, gamma=0.4, learning_rate=0.1,\n",
       "       max_delta_step=0, max_depth=3, min_child_weight=5, missing=None,\n",
       "       n_estimators=60, n_jobs=1, nthread=4, objective='binary:logistic',\n",
       "       random_state=0, reg_alpha=1, reg_lambda=1, scale_pos_weight=1,\n",
       "       seed=27, silent=True, subsample=0.5)"
      ]
     },
     "execution_count": 28,
     "metadata": {},
     "output_type": "execute_result"
    }
   ],
   "source": [
    "XGBClassifier(learning_rate =0.1, n_estimators=60, max_depth=3, min_child_weight=5, \n",
    "              gamma=0.4, subsample=0.5, colsample_bytree=0.9, reg_alpha=1, objective= 'binary:logistic', \n",
    "             nthread=4,scale_pos_weight=1, seed=27)             \n",
    "\n"
   ]
  },
  {
   "cell_type": "markdown",
   "metadata": {},
   "source": [
    "7）回到第1）步，降低学习速率, 调整迭代次数"
   ]
  },
  {
   "cell_type": "code",
   "execution_count": 29,
   "metadata": {},
   "outputs": [
    {
     "data": {
      "text/plain": [
       "({'n_estimators': 180}, 0.7852545469797173)"
      ]
     },
     "execution_count": 29,
     "metadata": {},
     "output_type": "execute_result"
    }
   ],
   "source": [
    "param_test = {'n_estimators':range(20,200,20)}\n",
    "\n",
    "gsearch = GridSearchCV(estimator = XGBClassifier(learning_rate =0.01, n_estimators=60, max_depth=3, \n",
    "                                                  min_child_weight=5, gamma=0.4, subsample=0.5, \n",
    "                                                  colsample_bytree=0.9, reg_alpha=1, objective= 'binary:logistic', \n",
    "                                                  nthread=4,scale_pos_weight=1, seed=27), \n",
    "                        param_grid = param_test, scoring='roc_auc',n_jobs=4,iid=False, cv=5)\n",
    "\n",
    "gsearch.fit(X_train, y_train)\n",
    "# gsearch.grid_scores_, \n",
    "gsearch.best_params_, gsearch.best_score_\n"
   ]
  },
  {
   "cell_type": "markdown",
   "metadata": {},
   "source": [
    "与1）结果相比, 较好。所以, 选用此处学习速率较小时的结果。继续从1）循环调整, 此处不再调整。\n",
    "\n",
    "观察最终结果"
   ]
  },
  {
   "cell_type": "code",
   "execution_count": 30,
   "metadata": {},
   "outputs": [
    {
     "name": "stdout",
     "output_type": "stream",
     "text": [
      "[准确率] 训练集： 0.8049 测试集： 0.7961\n",
      "[auc值] 训练集： 0.8255 测试集： 0.7966\n"
     ]
    }
   ],
   "source": [
    "xgb = XGBClassifier(learning_rate =0.01, n_estimators=180, max_depth=3, min_child_weight=5, \n",
    "                    gamma=0.4, subsample=0.5, colsample_bytree=0.9, reg_alpha=1, \n",
    "                    objective= 'binary:logistic', nthread=4,scale_pos_weight=1, seed=27)\n",
    "xgb.fit(X_train, y_train)\n",
    "model_metrics(xgb, X_train, X_test, y_train, y_test)\n"
   ]
  },
  {
   "cell_type": "markdown",
   "metadata": {},
   "source": [
    "#### 7. LightGBM模型"
   ]
  },
  {
   "cell_type": "markdown",
   "metadata": {},
   "source": [
    "调整过程如下 - 可以划分更详细点"
   ]
  },
  {
   "cell_type": "code",
   "execution_count": 31,
   "metadata": {},
   "outputs": [
    {
     "data": {
      "text/plain": [
       "({'n_estimators': 60}, 0.7934687562167804)"
      ]
     },
     "execution_count": 31,
     "metadata": {},
     "output_type": "execute_result"
    }
   ],
   "source": [
    "param_test = {'n_estimators':range(20,200,20)}\n",
    "# param_test = {'max_depth':range(3,10,2), 'min_child_weight':range(1,12,2)}\n",
    "# param_test = {'gamma':[i/10 for i in range(1,6)]}\n",
    "# param_test = {'subsample':[i/10 for i in range(5,10)], 'colsample_bytree':[i/10 for i in range(5,10)]}\n",
    "# param_test = {'reg_alpha':[1e-5, 1e-2, 0.1, 0, 1, 100]}\n",
    "gsearch = GridSearchCV(estimator = LGBMClassifier(learning_rate =0.1, n_estimators=60, max_depth=3, \n",
    "                                                  min_child_weight=11, gamma=0.1, subsample=0.5, \n",
    "                                                  colsample_bytree=0.8, reg_alpha = 1e-5,\n",
    "                                                  nthread=4,scale_pos_weight=1, seed=27), \n",
    "                        param_grid = param_test, scoring='roc_auc',n_jobs=4,iid=False, cv=5)\n",
    "\n",
    "gsearch.fit(X_train, y_train)\n",
    "# gsearch.grid_scores_, \n",
    "gsearch.best_params_, gsearch.best_score_\n"
   ]
  },
  {
   "cell_type": "markdown",
   "metadata": {},
   "source": [
    "最终粗调结果如下"
   ]
  },
  {
   "cell_type": "code",
   "execution_count": 32,
   "metadata": {},
   "outputs": [
    {
     "name": "stdout",
     "output_type": "stream",
     "text": [
      "[准确率] 训练集： 0.8260 测试集： 0.8045\n",
      "[auc值] 训练集： 0.8719 测试集： 0.7988\n"
     ]
    }
   ],
   "source": [
    "lgb = LGBMClassifier(learning_rate =0.1, n_estimators=60, max_depth=3, min_child_weight=11, \n",
    "                    gamma=0.1, subsample=0.5, colsample_bytree=0.8, reg_alpha=1e-5, \n",
    "                    nthread=4,scale_pos_weight=1, seed=27)\n",
    "lgb.fit(X_train, y_train)\n",
    "model_metrics(lgb, X_train, X_test, y_train, y_test)\n"
   ]
  },
  {
   "cell_type": "markdown",
   "metadata": {},
   "source": [
    "### 结果对比"
   ]
  },
  {
   "cell_type": "code",
   "execution_count": null,
   "metadata": {},
   "outputs": [],
   "source": []
  }
 ],
 "metadata": {
  "kernelspec": {
   "display_name": "Python 3",
   "language": "python",
   "name": "python3"
  },
  "language_info": {
   "codemirror_mode": {
    "name": "ipython",
    "version": 3
   },
   "file_extension": ".py",
   "mimetype": "text/x-python",
   "name": "python",
   "nbconvert_exporter": "python",
   "pygments_lexer": "ipython3",
   "version": "3.6.5"
  }
 },
 "nbformat": 4,
 "nbformat_minor": 2
}
